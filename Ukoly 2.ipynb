{
 "cells": [
  {
   "cell_type": "code",
   "execution_count": 65,
   "metadata": {},
   "outputs": [],
   "source": [
    "%matplotlib inline"
   ]
  },
  {
   "cell_type": "code",
   "execution_count": 66,
   "metadata": {},
   "outputs": [],
   "source": [
    "import pandas as pd"
   ]
  },
  {
   "cell_type": "markdown",
   "metadata": {},
   "source": [
    "0. Podle Keplerových zákonů by pro všechny planety měl být konstantní poměr mezi třetí mocninou velké poloosy elipsy oběžné dráhy a druhou mocninou oběžné doby. Dokážeš to ověřit pomocí tabulky planety, kterou jsme si v hodině vytvořili?"
   ]
  },
  {
   "cell_type": "code",
   "execution_count": 67,
   "metadata": {},
   "outputs": [
    {
     "data": {
      "text/html": [
       "<div>\n",
       "<style scoped>\n",
       "    .dataframe tbody tr th:only-of-type {\n",
       "        vertical-align: middle;\n",
       "    }\n",
       "\n",
       "    .dataframe tbody tr th {\n",
       "        vertical-align: top;\n",
       "    }\n",
       "\n",
       "    .dataframe thead th {\n",
       "        text-align: right;\n",
       "    }\n",
       "</style>\n",
       "<table border=\"1\" class=\"dataframe\">\n",
       "  <thead>\n",
       "    <tr style=\"text-align: right;\">\n",
       "      <th></th>\n",
       "      <th>symbol</th>\n",
       "      <th>obezna_poloosa</th>\n",
       "      <th>obezna_doba</th>\n",
       "    </tr>\n",
       "    <tr>\n",
       "      <th>jmeno</th>\n",
       "      <th></th>\n",
       "      <th></th>\n",
       "      <th></th>\n",
       "    </tr>\n",
       "  </thead>\n",
       "  <tbody>\n",
       "    <tr>\n",
       "      <th>Merkur</th>\n",
       "      <td>☿</td>\n",
       "      <td>0.39</td>\n",
       "      <td>0.24</td>\n",
       "    </tr>\n",
       "    <tr>\n",
       "      <th>Venuše</th>\n",
       "      <td>♀</td>\n",
       "      <td>0.72</td>\n",
       "      <td>0.62</td>\n",
       "    </tr>\n",
       "    <tr>\n",
       "      <th>Země</th>\n",
       "      <td>⊕</td>\n",
       "      <td>1.00</td>\n",
       "      <td>1.00</td>\n",
       "    </tr>\n",
       "    <tr>\n",
       "      <th>Mars</th>\n",
       "      <td>♂</td>\n",
       "      <td>1.52</td>\n",
       "      <td>1.88</td>\n",
       "    </tr>\n",
       "    <tr>\n",
       "      <th>Jupiter</th>\n",
       "      <td>♃</td>\n",
       "      <td>5.20</td>\n",
       "      <td>11.86</td>\n",
       "    </tr>\n",
       "    <tr>\n",
       "      <th>Saturn</th>\n",
       "      <td>♄</td>\n",
       "      <td>9.54</td>\n",
       "      <td>29.46</td>\n",
       "    </tr>\n",
       "    <tr>\n",
       "      <th>Uran</th>\n",
       "      <td>♅</td>\n",
       "      <td>19.22</td>\n",
       "      <td>84.01</td>\n",
       "    </tr>\n",
       "    <tr>\n",
       "      <th>Neptun</th>\n",
       "      <td>♆</td>\n",
       "      <td>30.06</td>\n",
       "      <td>164.80</td>\n",
       "    </tr>\n",
       "  </tbody>\n",
       "</table>\n",
       "</div>"
      ],
      "text/plain": [
       "        symbol  obezna_poloosa  obezna_doba\n",
       "jmeno                                      \n",
       "Merkur       ☿            0.39         0.24\n",
       "Venuše       ♀            0.72         0.62\n",
       "Země         ⊕            1.00         1.00\n",
       "Mars         ♂            1.52         1.88\n",
       "Jupiter      ♃            5.20        11.86\n",
       "Saturn       ♄            9.54        29.46\n",
       "Uran         ♅           19.22        84.01\n",
       "Neptun       ♆           30.06       164.80"
      ]
     },
     "execution_count": 67,
     "metadata": {},
     "output_type": "execute_result"
    }
   ],
   "source": [
    "planety = pd.DataFrame({\n",
    "    \"jmeno\": [\"Merkur\", \"Venuše\", \"Země\", \"Mars\", \"Jupiter\", \"Saturn\", \"Uran\", \"Neptun\"],\n",
    "    \"symbol\": [\"☿\", \"♀\", \"⊕\", \"♂\", \"♃\", \"♄\", \"♅\", \"♆\"],\n",
    "    \"obezna_poloosa\": [0.39, 0.72, 1.00, 1.52, 5.20, 9.54, 19.22, 30.06],\n",
    "    \"obezna_doba\": [0.24, 0.62, 1, 1.88, 11.86, 29.46, 84.01, 164.8],\n",
    "})\n",
    "planety = planety.set_index(\"jmeno\")\n",
    "planety"
   ]
  },
  {
   "cell_type": "code",
   "execution_count": 68,
   "metadata": {},
   "outputs": [
    {
     "name": "stdout",
     "output_type": "stream",
     "text": [
      "No constant ratio.\n"
     ]
    },
    {
     "data": {
      "text/html": [
       "<div>\n",
       "<style scoped>\n",
       "    .dataframe tbody tr th:only-of-type {\n",
       "        vertical-align: middle;\n",
       "    }\n",
       "\n",
       "    .dataframe tbody tr th {\n",
       "        vertical-align: top;\n",
       "    }\n",
       "\n",
       "    .dataframe thead th {\n",
       "        text-align: right;\n",
       "    }\n",
       "</style>\n",
       "<table border=\"1\" class=\"dataframe\">\n",
       "  <thead>\n",
       "    <tr style=\"text-align: right;\">\n",
       "      <th></th>\n",
       "      <th>symbol</th>\n",
       "      <th>obezna_poloosa</th>\n",
       "      <th>obezna_doba</th>\n",
       "      <th>ratio</th>\n",
       "    </tr>\n",
       "    <tr>\n",
       "      <th>jmeno</th>\n",
       "      <th></th>\n",
       "      <th></th>\n",
       "      <th></th>\n",
       "      <th></th>\n",
       "    </tr>\n",
       "  </thead>\n",
       "  <tbody>\n",
       "    <tr>\n",
       "      <th>Merkur</th>\n",
       "      <td>☿</td>\n",
       "      <td>0.39</td>\n",
       "      <td>0.24</td>\n",
       "      <td>1.029844</td>\n",
       "    </tr>\n",
       "    <tr>\n",
       "      <th>Venuše</th>\n",
       "      <td>♀</td>\n",
       "      <td>0.72</td>\n",
       "      <td>0.62</td>\n",
       "      <td>0.970989</td>\n",
       "    </tr>\n",
       "    <tr>\n",
       "      <th>Země</th>\n",
       "      <td>⊕</td>\n",
       "      <td>1.00</td>\n",
       "      <td>1.00</td>\n",
       "      <td>1.000000</td>\n",
       "    </tr>\n",
       "    <tr>\n",
       "      <th>Mars</th>\n",
       "      <td>♂</td>\n",
       "      <td>1.52</td>\n",
       "      <td>1.88</td>\n",
       "      <td>0.993608</td>\n",
       "    </tr>\n",
       "    <tr>\n",
       "      <th>Jupiter</th>\n",
       "      <td>♃</td>\n",
       "      <td>5.20</td>\n",
       "      <td>11.86</td>\n",
       "      <td>0.999633</td>\n",
       "    </tr>\n",
       "    <tr>\n",
       "      <th>Saturn</th>\n",
       "      <td>♄</td>\n",
       "      <td>9.54</td>\n",
       "      <td>29.46</td>\n",
       "      <td>1.000414</td>\n",
       "    </tr>\n",
       "    <tr>\n",
       "      <th>Uran</th>\n",
       "      <td>♅</td>\n",
       "      <td>19.22</td>\n",
       "      <td>84.01</td>\n",
       "      <td>1.006000</td>\n",
       "    </tr>\n",
       "    <tr>\n",
       "      <th>Neptun</th>\n",
       "      <td>♆</td>\n",
       "      <td>30.06</td>\n",
       "      <td>164.80</td>\n",
       "      <td>1.000121</td>\n",
       "    </tr>\n",
       "  </tbody>\n",
       "</table>\n",
       "</div>"
      ],
      "text/plain": [
       "        symbol  obezna_poloosa  obezna_doba     ratio\n",
       "jmeno                                                \n",
       "Merkur       ☿            0.39         0.24  1.029844\n",
       "Venuše       ♀            0.72         0.62  0.970989\n",
       "Země         ⊕            1.00         1.00  1.000000\n",
       "Mars         ♂            1.52         1.88  0.993608\n",
       "Jupiter      ♃            5.20        11.86  0.999633\n",
       "Saturn       ♄            9.54        29.46  1.000414\n",
       "Uran         ♅           19.22        84.01  1.006000\n",
       "Neptun       ♆           30.06       164.80  1.000121"
      ]
     },
     "execution_count": 68,
     "metadata": {},
     "output_type": "execute_result"
    }
   ],
   "source": [
    "planety[\"ratio\"] = (planety[\"obezna_poloosa\"] ** 3) / (planety[\"obezna_doba\"] ** 2)\n",
    "cats = planety[\"ratio\"].astype(\"category\")\n",
    "d = dict(enumerate(cats.cat.categories))\n",
    "if(len(d) > 1):\n",
    "    print(\"No constant ratio.\")\n",
    "else:\n",
    "    print(\"Constant ratio\")\n",
    "    \n",
    "planety"
   ]
  },
  {
   "cell_type": "markdown",
   "metadata": {},
   "source": [
    "1.Vytvoř vhodný graf, který velkou poloosu elipsy a oběžnou dobu spojuje."
   ]
  },
  {
   "cell_type": "code",
   "execution_count": 69,
   "metadata": {},
   "outputs": [
    {
     "data": {
      "image/png": "[encoded data removed]",
      "text/plain": [
       "<Figure size 576x720 with 1 Axes>"
      ]
     },
     "metadata": {
      "needs_background": "light"
     },
     "output_type": "display_data"
    }
   ],
   "source": [
    "planety.plot.scatter(\n",
    "    \n",
    "    x = \"obezna_poloosa\", \n",
    "    y = \"obezna_doba\", \n",
    "    figsize=(8, 10),\n",
    "    marker = \"*\", \n",
    "    s = planety[\"obezna_poloosa\"] * 26\n",
    "\n",
    ");"
   ]
  },
  {
   "cell_type": "markdown",
   "metadata": {},
   "source": [
    "Použij tabulku countries z hodiny a: "
   ]
  },
  {
   "cell_type": "markdown",
   "metadata": {},
   "source": [
    "2. Přidej do tabulky zemí sloupce women_overweight, men_overweight, kde nadváhou zástupců příslušného pohlaví myslíme průměrné bmi > 25: "
   ]
  },
  {
   "cell_type": "code",
   "execution_count": 70,
   "metadata": {},
   "outputs": [
    {
     "data": {
      "text/html": [
       "<div>\n",
       "<style scoped>\n",
       "    .dataframe tbody tr th:only-of-type {\n",
       "        vertical-align: middle;\n",
       "    }\n",
       "\n",
       "    .dataframe tbody tr th {\n",
       "        vertical-align: top;\n",
       "    }\n",
       "\n",
       "    .dataframe thead th {\n",
       "        text-align: right;\n",
       "    }\n",
       "</style>\n",
       "<table border=\"1\" class=\"dataframe\">\n",
       "  <thead>\n",
       "    <tr style=\"text-align: right;\">\n",
       "      <th></th>\n",
       "      <th>iso</th>\n",
       "      <th>world_6region</th>\n",
       "      <th>world_4region</th>\n",
       "      <th>income_groups</th>\n",
       "      <th>is_eu</th>\n",
       "      <th>is_oecd</th>\n",
       "      <th>eu_accession</th>\n",
       "      <th>year</th>\n",
       "      <th>area</th>\n",
       "      <th>population</th>\n",
       "      <th>alcohol_adults</th>\n",
       "      <th>bmi_men</th>\n",
       "      <th>bmi_women</th>\n",
       "      <th>car_deaths_per_100000_people</th>\n",
       "      <th>calories_per_day</th>\n",
       "      <th>infant_mortality</th>\n",
       "      <th>life_expectancy</th>\n",
       "      <th>life_expectancy_female</th>\n",
       "      <th>life_expectancy_male</th>\n",
       "      <th>un_accession</th>\n",
       "    </tr>\n",
       "    <tr>\n",
       "      <th>name</th>\n",
       "      <th></th>\n",
       "      <th></th>\n",
       "      <th></th>\n",
       "      <th></th>\n",
       "      <th></th>\n",
       "      <th></th>\n",
       "      <th></th>\n",
       "      <th></th>\n",
       "      <th></th>\n",
       "      <th></th>\n",
       "      <th></th>\n",
       "      <th></th>\n",
       "      <th></th>\n",
       "      <th></th>\n",
       "      <th></th>\n",
       "      <th></th>\n",
       "      <th></th>\n",
       "      <th></th>\n",
       "      <th></th>\n",
       "      <th></th>\n",
       "    </tr>\n",
       "  </thead>\n",
       "  <tbody>\n",
       "    <tr>\n",
       "      <th>Afghanistan</th>\n",
       "      <td>AFG</td>\n",
       "      <td>south_asia</td>\n",
       "      <td>asia</td>\n",
       "      <td>low_income</td>\n",
       "      <td>False</td>\n",
       "      <td>False</td>\n",
       "      <td>NaN</td>\n",
       "      <td>2018</td>\n",
       "      <td>652860.0</td>\n",
       "      <td>34500000.0</td>\n",
       "      <td>0.03</td>\n",
       "      <td>20.62</td>\n",
       "      <td>21.07</td>\n",
       "      <td>NaN</td>\n",
       "      <td>2090.0</td>\n",
       "      <td>66.3</td>\n",
       "      <td>58.69</td>\n",
       "      <td>65.812</td>\n",
       "      <td>63.101</td>\n",
       "      <td>1946-11-19</td>\n",
       "    </tr>\n",
       "    <tr>\n",
       "      <th>Albania</th>\n",
       "      <td>ALB</td>\n",
       "      <td>europe_central_asia</td>\n",
       "      <td>europe</td>\n",
       "      <td>upper_middle_income</td>\n",
       "      <td>False</td>\n",
       "      <td>False</td>\n",
       "      <td>NaN</td>\n",
       "      <td>2018</td>\n",
       "      <td>28750.0</td>\n",
       "      <td>3238000.0</td>\n",
       "      <td>7.29</td>\n",
       "      <td>26.45</td>\n",
       "      <td>25.66</td>\n",
       "      <td>5.978</td>\n",
       "      <td>3193.0</td>\n",
       "      <td>12.5</td>\n",
       "      <td>78.01</td>\n",
       "      <td>80.737</td>\n",
       "      <td>76.693</td>\n",
       "      <td>1955-12-14</td>\n",
       "    </tr>\n",
       "    <tr>\n",
       "      <th>Algeria</th>\n",
       "      <td>DZA</td>\n",
       "      <td>middle_east_north_africa</td>\n",
       "      <td>africa</td>\n",
       "      <td>upper_middle_income</td>\n",
       "      <td>False</td>\n",
       "      <td>False</td>\n",
       "      <td>NaN</td>\n",
       "      <td>2018</td>\n",
       "      <td>2381740.0</td>\n",
       "      <td>36980000.0</td>\n",
       "      <td>0.69</td>\n",
       "      <td>24.60</td>\n",
       "      <td>26.37</td>\n",
       "      <td>NaN</td>\n",
       "      <td>3296.0</td>\n",
       "      <td>21.9</td>\n",
       "      <td>77.86</td>\n",
       "      <td>77.784</td>\n",
       "      <td>75.279</td>\n",
       "      <td>1962-10-08</td>\n",
       "    </tr>\n",
       "    <tr>\n",
       "      <th>Andorra</th>\n",
       "      <td>AND</td>\n",
       "      <td>europe_central_asia</td>\n",
       "      <td>europe</td>\n",
       "      <td>high_income</td>\n",
       "      <td>False</td>\n",
       "      <td>False</td>\n",
       "      <td>NaN</td>\n",
       "      <td>2017</td>\n",
       "      <td>470.0</td>\n",
       "      <td>88910.0</td>\n",
       "      <td>10.17</td>\n",
       "      <td>27.63</td>\n",
       "      <td>26.43</td>\n",
       "      <td>NaN</td>\n",
       "      <td>NaN</td>\n",
       "      <td>2.1</td>\n",
       "      <td>82.55</td>\n",
       "      <td>NaN</td>\n",
       "      <td>NaN</td>\n",
       "      <td>1993-07-28</td>\n",
       "    </tr>\n",
       "    <tr>\n",
       "      <th>Angola</th>\n",
       "      <td>AGO</td>\n",
       "      <td>sub_saharan_africa</td>\n",
       "      <td>africa</td>\n",
       "      <td>upper_middle_income</td>\n",
       "      <td>False</td>\n",
       "      <td>False</td>\n",
       "      <td>NaN</td>\n",
       "      <td>2018</td>\n",
       "      <td>1246700.0</td>\n",
       "      <td>20710000.0</td>\n",
       "      <td>5.57</td>\n",
       "      <td>22.25</td>\n",
       "      <td>23.48</td>\n",
       "      <td>NaN</td>\n",
       "      <td>2473.0</td>\n",
       "      <td>96.0</td>\n",
       "      <td>65.19</td>\n",
       "      <td>64.939</td>\n",
       "      <td>59.213</td>\n",
       "      <td>1976-12-01</td>\n",
       "    </tr>\n",
       "    <tr>\n",
       "      <th>...</th>\n",
       "      <td>...</td>\n",
       "      <td>...</td>\n",
       "      <td>...</td>\n",
       "      <td>...</td>\n",
       "      <td>...</td>\n",
       "      <td>...</td>\n",
       "      <td>...</td>\n",
       "      <td>...</td>\n",
       "      <td>...</td>\n",
       "      <td>...</td>\n",
       "      <td>...</td>\n",
       "      <td>...</td>\n",
       "      <td>...</td>\n",
       "      <td>...</td>\n",
       "      <td>...</td>\n",
       "      <td>...</td>\n",
       "      <td>...</td>\n",
       "      <td>...</td>\n",
       "      <td>...</td>\n",
       "      <td>...</td>\n",
       "    </tr>\n",
       "    <tr>\n",
       "      <th>Venezuela</th>\n",
       "      <td>VEN</td>\n",
       "      <td>america</td>\n",
       "      <td>americas</td>\n",
       "      <td>upper_middle_income</td>\n",
       "      <td>False</td>\n",
       "      <td>False</td>\n",
       "      <td>NaN</td>\n",
       "      <td>2018</td>\n",
       "      <td>912050.0</td>\n",
       "      <td>30340000.0</td>\n",
       "      <td>7.60</td>\n",
       "      <td>27.45</td>\n",
       "      <td>28.13</td>\n",
       "      <td>7.332</td>\n",
       "      <td>2631.0</td>\n",
       "      <td>12.9</td>\n",
       "      <td>75.91</td>\n",
       "      <td>79.079</td>\n",
       "      <td>70.950</td>\n",
       "      <td>1945-11-15</td>\n",
       "    </tr>\n",
       "    <tr>\n",
       "      <th>Vietnam</th>\n",
       "      <td>VNM</td>\n",
       "      <td>east_asia_pacific</td>\n",
       "      <td>asia</td>\n",
       "      <td>lower_middle_income</td>\n",
       "      <td>False</td>\n",
       "      <td>False</td>\n",
       "      <td>NaN</td>\n",
       "      <td>2018</td>\n",
       "      <td>330967.0</td>\n",
       "      <td>90660000.0</td>\n",
       "      <td>3.91</td>\n",
       "      <td>20.92</td>\n",
       "      <td>21.07</td>\n",
       "      <td>NaN</td>\n",
       "      <td>2745.0</td>\n",
       "      <td>17.3</td>\n",
       "      <td>74.88</td>\n",
       "      <td>81.203</td>\n",
       "      <td>72.003</td>\n",
       "      <td>1977-09-20</td>\n",
       "    </tr>\n",
       "    <tr>\n",
       "      <th>Yemen</th>\n",
       "      <td>YEM</td>\n",
       "      <td>middle_east_north_africa</td>\n",
       "      <td>asia</td>\n",
       "      <td>lower_middle_income</td>\n",
       "      <td>False</td>\n",
       "      <td>False</td>\n",
       "      <td>NaN</td>\n",
       "      <td>2018</td>\n",
       "      <td>527970.0</td>\n",
       "      <td>26360000.0</td>\n",
       "      <td>0.20</td>\n",
       "      <td>24.44</td>\n",
       "      <td>26.11</td>\n",
       "      <td>NaN</td>\n",
       "      <td>2223.0</td>\n",
       "      <td>33.8</td>\n",
       "      <td>67.14</td>\n",
       "      <td>66.871</td>\n",
       "      <td>63.875</td>\n",
       "      <td>1947-09-30</td>\n",
       "    </tr>\n",
       "    <tr>\n",
       "      <th>Zambia</th>\n",
       "      <td>ZMB</td>\n",
       "      <td>sub_saharan_africa</td>\n",
       "      <td>africa</td>\n",
       "      <td>lower_middle_income</td>\n",
       "      <td>False</td>\n",
       "      <td>False</td>\n",
       "      <td>NaN</td>\n",
       "      <td>2018</td>\n",
       "      <td>752610.0</td>\n",
       "      <td>14310000.0</td>\n",
       "      <td>3.56</td>\n",
       "      <td>20.68</td>\n",
       "      <td>23.05</td>\n",
       "      <td>11.260</td>\n",
       "      <td>1930.0</td>\n",
       "      <td>43.3</td>\n",
       "      <td>59.45</td>\n",
       "      <td>65.362</td>\n",
       "      <td>59.845</td>\n",
       "      <td>1964-12-01</td>\n",
       "    </tr>\n",
       "    <tr>\n",
       "      <th>Zimbabwe</th>\n",
       "      <td>ZWE</td>\n",
       "      <td>sub_saharan_africa</td>\n",
       "      <td>africa</td>\n",
       "      <td>low_income</td>\n",
       "      <td>False</td>\n",
       "      <td>False</td>\n",
       "      <td>NaN</td>\n",
       "      <td>2018</td>\n",
       "      <td>390760.0</td>\n",
       "      <td>13330000.0</td>\n",
       "      <td>4.96</td>\n",
       "      <td>22.03</td>\n",
       "      <td>24.65</td>\n",
       "      <td>20.850</td>\n",
       "      <td>2110.0</td>\n",
       "      <td>46.6</td>\n",
       "      <td>60.18</td>\n",
       "      <td>63.944</td>\n",
       "      <td>60.120</td>\n",
       "      <td>1980-08-25</td>\n",
       "    </tr>\n",
       "  </tbody>\n",
       "</table>\n",
       "<p>193 rows × 20 columns</p>\n",
       "</div>"
      ],
      "text/plain": [
       "             iso             world_6region world_4region        income_groups  \\\n",
       "name                                                                            \n",
       "Afghanistan  AFG                south_asia          asia           low_income   \n",
       "Albania      ALB       europe_central_asia        europe  upper_middle_income   \n",
       "Algeria      DZA  middle_east_north_africa        africa  upper_middle_income   \n",
       "Andorra      AND       europe_central_asia        europe          high_income   \n",
       "Angola       AGO        sub_saharan_africa        africa  upper_middle_income   \n",
       "...          ...                       ...           ...                  ...   \n",
       "Venezuela    VEN                   america      americas  upper_middle_income   \n",
       "Vietnam      VNM         east_asia_pacific          asia  lower_middle_income   \n",
       "Yemen        YEM  middle_east_north_africa          asia  lower_middle_income   \n",
       "Zambia       ZMB        sub_saharan_africa        africa  lower_middle_income   \n",
       "Zimbabwe     ZWE        sub_saharan_africa        africa           low_income   \n",
       "\n",
       "             is_eu  is_oecd eu_accession  year       area  population  \\\n",
       "name                                                                    \n",
       "Afghanistan  False    False          NaN  2018   652860.0  34500000.0   \n",
       "Albania      False    False          NaN  2018    28750.0   3238000.0   \n",
       "Algeria      False    False          NaN  2018  2381740.0  36980000.0   \n",
       "Andorra      False    False          NaN  2017      470.0     88910.0   \n",
       "Angola       False    False          NaN  2018  1246700.0  20710000.0   \n",
       "...            ...      ...          ...   ...        ...         ...   \n",
       "Venezuela    False    False          NaN  2018   912050.0  30340000.0   \n",
       "Vietnam      False    False          NaN  2018   330967.0  90660000.0   \n",
       "Yemen        False    False          NaN  2018   527970.0  26360000.0   \n",
       "Zambia       False    False          NaN  2018   752610.0  14310000.0   \n",
       "Zimbabwe     False    False          NaN  2018   390760.0  13330000.0   \n",
       "\n",
       "             alcohol_adults  bmi_men  bmi_women  car_deaths_per_100000_people  \\\n",
       "name                                                                            \n",
       "Afghanistan            0.03    20.62      21.07                           NaN   \n",
       "Albania                7.29    26.45      25.66                         5.978   \n",
       "Algeria                0.69    24.60      26.37                           NaN   \n",
       "Andorra               10.17    27.63      26.43                           NaN   \n",
       "Angola                 5.57    22.25      23.48                           NaN   \n",
       "...                     ...      ...        ...                           ...   \n",
       "Venezuela              7.60    27.45      28.13                         7.332   \n",
       "Vietnam                3.91    20.92      21.07                           NaN   \n",
       "Yemen                  0.20    24.44      26.11                           NaN   \n",
       "Zambia                 3.56    20.68      23.05                        11.260   \n",
       "Zimbabwe               4.96    22.03      24.65                        20.850   \n",
       "\n",
       "             calories_per_day  infant_mortality  life_expectancy  \\\n",
       "name                                                               \n",
       "Afghanistan            2090.0              66.3            58.69   \n",
       "Albania                3193.0              12.5            78.01   \n",
       "Algeria                3296.0              21.9            77.86   \n",
       "Andorra                   NaN               2.1            82.55   \n",
       "Angola                 2473.0              96.0            65.19   \n",
       "...                       ...               ...              ...   \n",
       "Venezuela              2631.0              12.9            75.91   \n",
       "Vietnam                2745.0              17.3            74.88   \n",
       "Yemen                  2223.0              33.8            67.14   \n",
       "Zambia                 1930.0              43.3            59.45   \n",
       "Zimbabwe               2110.0              46.6            60.18   \n",
       "\n",
       "             life_expectancy_female  life_expectancy_male un_accession  \n",
       "name                                                                    \n",
       "Afghanistan                  65.812                63.101   1946-11-19  \n",
       "Albania                      80.737                76.693   1955-12-14  \n",
       "Algeria                      77.784                75.279   1962-10-08  \n",
       "Andorra                         NaN                   NaN   1993-07-28  \n",
       "Angola                       64.939                59.213   1976-12-01  \n",
       "...                             ...                   ...          ...  \n",
       "Venezuela                    79.079                70.950   1945-11-15  \n",
       "Vietnam                      81.203                72.003   1977-09-20  \n",
       "Yemen                        66.871                63.875   1947-09-30  \n",
       "Zambia                       65.362                59.845   1964-12-01  \n",
       "Zimbabwe                     63.944                60.120   1980-08-25  \n",
       "\n",
       "[193 rows x 20 columns]"
      ]
     },
     "execution_count": 70,
     "metadata": {},
     "output_type": "execute_result"
    }
   ],
   "source": [
    "countries = pd.read_csv(\"countries.csv\", index_col = \"name\")\n",
    "countries = countries.sort_index()\n",
    "countries"
   ]
  },
  {
   "cell_type": "code",
   "execution_count": 71,
   "metadata": {},
   "outputs": [],
   "source": [
    "def is_overweight(source_column : str, result_column : str, table : pd.DataFrame):\n",
    "    countries[result_column] = countries[source_column] > 25\n",
    "    return countries"
   ]
  },
  {
   "cell_type": "code",
   "execution_count": 72,
   "metadata": {},
   "outputs": [
    {
     "data": {
      "text/html": [
       "<div>\n",
       "<style scoped>\n",
       "    .dataframe tbody tr th:only-of-type {\n",
       "        vertical-align: middle;\n",
       "    }\n",
       "\n",
       "    .dataframe tbody tr th {\n",
       "        vertical-align: top;\n",
       "    }\n",
       "\n",
       "    .dataframe thead th {\n",
       "        text-align: right;\n",
       "    }\n",
       "</style>\n",
       "<table border=\"1\" class=\"dataframe\">\n",
       "  <thead>\n",
       "    <tr style=\"text-align: right;\">\n",
       "      <th></th>\n",
       "      <th>iso</th>\n",
       "      <th>world_6region</th>\n",
       "      <th>world_4region</th>\n",
       "      <th>income_groups</th>\n",
       "      <th>is_eu</th>\n",
       "      <th>is_oecd</th>\n",
       "      <th>eu_accession</th>\n",
       "      <th>year</th>\n",
       "      <th>area</th>\n",
       "      <th>population</th>\n",
       "      <th>...</th>\n",
       "      <th>bmi_women</th>\n",
       "      <th>car_deaths_per_100000_people</th>\n",
       "      <th>calories_per_day</th>\n",
       "      <th>infant_mortality</th>\n",
       "      <th>life_expectancy</th>\n",
       "      <th>life_expectancy_female</th>\n",
       "      <th>life_expectancy_male</th>\n",
       "      <th>un_accession</th>\n",
       "      <th>women_overweight</th>\n",
       "      <th>men_overweight</th>\n",
       "    </tr>\n",
       "    <tr>\n",
       "      <th>name</th>\n",
       "      <th></th>\n",
       "      <th></th>\n",
       "      <th></th>\n",
       "      <th></th>\n",
       "      <th></th>\n",
       "      <th></th>\n",
       "      <th></th>\n",
       "      <th></th>\n",
       "      <th></th>\n",
       "      <th></th>\n",
       "      <th></th>\n",
       "      <th></th>\n",
       "      <th></th>\n",
       "      <th></th>\n",
       "      <th></th>\n",
       "      <th></th>\n",
       "      <th></th>\n",
       "      <th></th>\n",
       "      <th></th>\n",
       "      <th></th>\n",
       "      <th></th>\n",
       "    </tr>\n",
       "  </thead>\n",
       "  <tbody>\n",
       "    <tr>\n",
       "      <th>Afghanistan</th>\n",
       "      <td>AFG</td>\n",
       "      <td>south_asia</td>\n",
       "      <td>asia</td>\n",
       "      <td>low_income</td>\n",
       "      <td>False</td>\n",
       "      <td>False</td>\n",
       "      <td>NaN</td>\n",
       "      <td>2018</td>\n",
       "      <td>652860.0</td>\n",
       "      <td>34500000.0</td>\n",
       "      <td>...</td>\n",
       "      <td>21.07</td>\n",
       "      <td>NaN</td>\n",
       "      <td>2090.0</td>\n",
       "      <td>66.3</td>\n",
       "      <td>58.69</td>\n",
       "      <td>65.812</td>\n",
       "      <td>63.101</td>\n",
       "      <td>1946-11-19</td>\n",
       "      <td>False</td>\n",
       "      <td>False</td>\n",
       "    </tr>\n",
       "    <tr>\n",
       "      <th>Albania</th>\n",
       "      <td>ALB</td>\n",
       "      <td>europe_central_asia</td>\n",
       "      <td>europe</td>\n",
       "      <td>upper_middle_income</td>\n",
       "      <td>False</td>\n",
       "      <td>False</td>\n",
       "      <td>NaN</td>\n",
       "      <td>2018</td>\n",
       "      <td>28750.0</td>\n",
       "      <td>3238000.0</td>\n",
       "      <td>...</td>\n",
       "      <td>25.66</td>\n",
       "      <td>5.978</td>\n",
       "      <td>3193.0</td>\n",
       "      <td>12.5</td>\n",
       "      <td>78.01</td>\n",
       "      <td>80.737</td>\n",
       "      <td>76.693</td>\n",
       "      <td>1955-12-14</td>\n",
       "      <td>True</td>\n",
       "      <td>True</td>\n",
       "    </tr>\n",
       "    <tr>\n",
       "      <th>Algeria</th>\n",
       "      <td>DZA</td>\n",
       "      <td>middle_east_north_africa</td>\n",
       "      <td>africa</td>\n",
       "      <td>upper_middle_income</td>\n",
       "      <td>False</td>\n",
       "      <td>False</td>\n",
       "      <td>NaN</td>\n",
       "      <td>2018</td>\n",
       "      <td>2381740.0</td>\n",
       "      <td>36980000.0</td>\n",
       "      <td>...</td>\n",
       "      <td>26.37</td>\n",
       "      <td>NaN</td>\n",
       "      <td>3296.0</td>\n",
       "      <td>21.9</td>\n",
       "      <td>77.86</td>\n",
       "      <td>77.784</td>\n",
       "      <td>75.279</td>\n",
       "      <td>1962-10-08</td>\n",
       "      <td>True</td>\n",
       "      <td>False</td>\n",
       "    </tr>\n",
       "    <tr>\n",
       "      <th>Andorra</th>\n",
       "      <td>AND</td>\n",
       "      <td>europe_central_asia</td>\n",
       "      <td>europe</td>\n",
       "      <td>high_income</td>\n",
       "      <td>False</td>\n",
       "      <td>False</td>\n",
       "      <td>NaN</td>\n",
       "      <td>2017</td>\n",
       "      <td>470.0</td>\n",
       "      <td>88910.0</td>\n",
       "      <td>...</td>\n",
       "      <td>26.43</td>\n",
       "      <td>NaN</td>\n",
       "      <td>NaN</td>\n",
       "      <td>2.1</td>\n",
       "      <td>82.55</td>\n",
       "      <td>NaN</td>\n",
       "      <td>NaN</td>\n",
       "      <td>1993-07-28</td>\n",
       "      <td>True</td>\n",
       "      <td>True</td>\n",
       "    </tr>\n",
       "    <tr>\n",
       "      <th>Angola</th>\n",
       "      <td>AGO</td>\n",
       "      <td>sub_saharan_africa</td>\n",
       "      <td>africa</td>\n",
       "      <td>upper_middle_income</td>\n",
       "      <td>False</td>\n",
       "      <td>False</td>\n",
       "      <td>NaN</td>\n",
       "      <td>2018</td>\n",
       "      <td>1246700.0</td>\n",
       "      <td>20710000.0</td>\n",
       "      <td>...</td>\n",
       "      <td>23.48</td>\n",
       "      <td>NaN</td>\n",
       "      <td>2473.0</td>\n",
       "      <td>96.0</td>\n",
       "      <td>65.19</td>\n",
       "      <td>64.939</td>\n",
       "      <td>59.213</td>\n",
       "      <td>1976-12-01</td>\n",
       "      <td>False</td>\n",
       "      <td>False</td>\n",
       "    </tr>\n",
       "    <tr>\n",
       "      <th>...</th>\n",
       "      <td>...</td>\n",
       "      <td>...</td>\n",
       "      <td>...</td>\n",
       "      <td>...</td>\n",
       "      <td>...</td>\n",
       "      <td>...</td>\n",
       "      <td>...</td>\n",
       "      <td>...</td>\n",
       "      <td>...</td>\n",
       "      <td>...</td>\n",
       "      <td>...</td>\n",
       "      <td>...</td>\n",
       "      <td>...</td>\n",
       "      <td>...</td>\n",
       "      <td>...</td>\n",
       "      <td>...</td>\n",
       "      <td>...</td>\n",
       "      <td>...</td>\n",
       "      <td>...</td>\n",
       "      <td>...</td>\n",
       "      <td>...</td>\n",
       "    </tr>\n",
       "    <tr>\n",
       "      <th>Venezuela</th>\n",
       "      <td>VEN</td>\n",
       "      <td>america</td>\n",
       "      <td>americas</td>\n",
       "      <td>upper_middle_income</td>\n",
       "      <td>False</td>\n",
       "      <td>False</td>\n",
       "      <td>NaN</td>\n",
       "      <td>2018</td>\n",
       "      <td>912050.0</td>\n",
       "      <td>30340000.0</td>\n",
       "      <td>...</td>\n",
       "      <td>28.13</td>\n",
       "      <td>7.332</td>\n",
       "      <td>2631.0</td>\n",
       "      <td>12.9</td>\n",
       "      <td>75.91</td>\n",
       "      <td>79.079</td>\n",
       "      <td>70.950</td>\n",
       "      <td>1945-11-15</td>\n",
       "      <td>True</td>\n",
       "      <td>True</td>\n",
       "    </tr>\n",
       "    <tr>\n",
       "      <th>Vietnam</th>\n",
       "      <td>VNM</td>\n",
       "      <td>east_asia_pacific</td>\n",
       "      <td>asia</td>\n",
       "      <td>lower_middle_income</td>\n",
       "      <td>False</td>\n",
       "      <td>False</td>\n",
       "      <td>NaN</td>\n",
       "      <td>2018</td>\n",
       "      <td>330967.0</td>\n",
       "      <td>90660000.0</td>\n",
       "      <td>...</td>\n",
       "      <td>21.07</td>\n",
       "      <td>NaN</td>\n",
       "      <td>2745.0</td>\n",
       "      <td>17.3</td>\n",
       "      <td>74.88</td>\n",
       "      <td>81.203</td>\n",
       "      <td>72.003</td>\n",
       "      <td>1977-09-20</td>\n",
       "      <td>False</td>\n",
       "      <td>False</td>\n",
       "    </tr>\n",
       "    <tr>\n",
       "      <th>Yemen</th>\n",
       "      <td>YEM</td>\n",
       "      <td>middle_east_north_africa</td>\n",
       "      <td>asia</td>\n",
       "      <td>lower_middle_income</td>\n",
       "      <td>False</td>\n",
       "      <td>False</td>\n",
       "      <td>NaN</td>\n",
       "      <td>2018</td>\n",
       "      <td>527970.0</td>\n",
       "      <td>26360000.0</td>\n",
       "      <td>...</td>\n",
       "      <td>26.11</td>\n",
       "      <td>NaN</td>\n",
       "      <td>2223.0</td>\n",
       "      <td>33.8</td>\n",
       "      <td>67.14</td>\n",
       "      <td>66.871</td>\n",
       "      <td>63.875</td>\n",
       "      <td>1947-09-30</td>\n",
       "      <td>True</td>\n",
       "      <td>False</td>\n",
       "    </tr>\n",
       "    <tr>\n",
       "      <th>Zambia</th>\n",
       "      <td>ZMB</td>\n",
       "      <td>sub_saharan_africa</td>\n",
       "      <td>africa</td>\n",
       "      <td>lower_middle_income</td>\n",
       "      <td>False</td>\n",
       "      <td>False</td>\n",
       "      <td>NaN</td>\n",
       "      <td>2018</td>\n",
       "      <td>752610.0</td>\n",
       "      <td>14310000.0</td>\n",
       "      <td>...</td>\n",
       "      <td>23.05</td>\n",
       "      <td>11.260</td>\n",
       "      <td>1930.0</td>\n",
       "      <td>43.3</td>\n",
       "      <td>59.45</td>\n",
       "      <td>65.362</td>\n",
       "      <td>59.845</td>\n",
       "      <td>1964-12-01</td>\n",
       "      <td>False</td>\n",
       "      <td>False</td>\n",
       "    </tr>\n",
       "    <tr>\n",
       "      <th>Zimbabwe</th>\n",
       "      <td>ZWE</td>\n",
       "      <td>sub_saharan_africa</td>\n",
       "      <td>africa</td>\n",
       "      <td>low_income</td>\n",
       "      <td>False</td>\n",
       "      <td>False</td>\n",
       "      <td>NaN</td>\n",
       "      <td>2018</td>\n",
       "      <td>390760.0</td>\n",
       "      <td>13330000.0</td>\n",
       "      <td>...</td>\n",
       "      <td>24.65</td>\n",
       "      <td>20.850</td>\n",
       "      <td>2110.0</td>\n",
       "      <td>46.6</td>\n",
       "      <td>60.18</td>\n",
       "      <td>63.944</td>\n",
       "      <td>60.120</td>\n",
       "      <td>1980-08-25</td>\n",
       "      <td>False</td>\n",
       "      <td>False</td>\n",
       "    </tr>\n",
       "  </tbody>\n",
       "</table>\n",
       "<p>193 rows × 22 columns</p>\n",
       "</div>"
      ],
      "text/plain": [
       "             iso             world_6region world_4region        income_groups  \\\n",
       "name                                                                            \n",
       "Afghanistan  AFG                south_asia          asia           low_income   \n",
       "Albania      ALB       europe_central_asia        europe  upper_middle_income   \n",
       "Algeria      DZA  middle_east_north_africa        africa  upper_middle_income   \n",
       "Andorra      AND       europe_central_asia        europe          high_income   \n",
       "Angola       AGO        sub_saharan_africa        africa  upper_middle_income   \n",
       "...          ...                       ...           ...                  ...   \n",
       "Venezuela    VEN                   america      americas  upper_middle_income   \n",
       "Vietnam      VNM         east_asia_pacific          asia  lower_middle_income   \n",
       "Yemen        YEM  middle_east_north_africa          asia  lower_middle_income   \n",
       "Zambia       ZMB        sub_saharan_africa        africa  lower_middle_income   \n",
       "Zimbabwe     ZWE        sub_saharan_africa        africa           low_income   \n",
       "\n",
       "             is_eu  is_oecd eu_accession  year       area  population  ...  \\\n",
       "name                                                                   ...   \n",
       "Afghanistan  False    False          NaN  2018   652860.0  34500000.0  ...   \n",
       "Albania      False    False          NaN  2018    28750.0   3238000.0  ...   \n",
       "Algeria      False    False          NaN  2018  2381740.0  36980000.0  ...   \n",
       "Andorra      False    False          NaN  2017      470.0     88910.0  ...   \n",
       "Angola       False    False          NaN  2018  1246700.0  20710000.0  ...   \n",
       "...            ...      ...          ...   ...        ...         ...  ...   \n",
       "Venezuela    False    False          NaN  2018   912050.0  30340000.0  ...   \n",
       "Vietnam      False    False          NaN  2018   330967.0  90660000.0  ...   \n",
       "Yemen        False    False          NaN  2018   527970.0  26360000.0  ...   \n",
       "Zambia       False    False          NaN  2018   752610.0  14310000.0  ...   \n",
       "Zimbabwe     False    False          NaN  2018   390760.0  13330000.0  ...   \n",
       "\n",
       "             bmi_women  car_deaths_per_100000_people  calories_per_day  \\\n",
       "name                                                                     \n",
       "Afghanistan      21.07                           NaN            2090.0   \n",
       "Albania          25.66                         5.978            3193.0   \n",
       "Algeria          26.37                           NaN            3296.0   \n",
       "Andorra          26.43                           NaN               NaN   \n",
       "Angola           23.48                           NaN            2473.0   \n",
       "...                ...                           ...               ...   \n",
       "Venezuela        28.13                         7.332            2631.0   \n",
       "Vietnam          21.07                           NaN            2745.0   \n",
       "Yemen            26.11                           NaN            2223.0   \n",
       "Zambia           23.05                        11.260            1930.0   \n",
       "Zimbabwe         24.65                        20.850            2110.0   \n",
       "\n",
       "             infant_mortality  life_expectancy  life_expectancy_female  \\\n",
       "name                                                                     \n",
       "Afghanistan              66.3            58.69                  65.812   \n",
       "Albania                  12.5            78.01                  80.737   \n",
       "Algeria                  21.9            77.86                  77.784   \n",
       "Andorra                   2.1            82.55                     NaN   \n",
       "Angola                   96.0            65.19                  64.939   \n",
       "...                       ...              ...                     ...   \n",
       "Venezuela                12.9            75.91                  79.079   \n",
       "Vietnam                  17.3            74.88                  81.203   \n",
       "Yemen                    33.8            67.14                  66.871   \n",
       "Zambia                   43.3            59.45                  65.362   \n",
       "Zimbabwe                 46.6            60.18                  63.944   \n",
       "\n",
       "             life_expectancy_male  un_accession  women_overweight  \\\n",
       "name                                                                \n",
       "Afghanistan                63.101    1946-11-19             False   \n",
       "Albania                    76.693    1955-12-14              True   \n",
       "Algeria                    75.279    1962-10-08              True   \n",
       "Andorra                       NaN    1993-07-28              True   \n",
       "Angola                     59.213    1976-12-01             False   \n",
       "...                           ...           ...               ...   \n",
       "Venezuela                  70.950    1945-11-15              True   \n",
       "Vietnam                    72.003    1977-09-20             False   \n",
       "Yemen                      63.875    1947-09-30              True   \n",
       "Zambia                     59.845    1964-12-01             False   \n",
       "Zimbabwe                   60.120    1980-08-25             False   \n",
       "\n",
       "            men_overweight  \n",
       "name                        \n",
       "Afghanistan          False  \n",
       "Albania               True  \n",
       "Algeria              False  \n",
       "Andorra               True  \n",
       "Angola               False  \n",
       "...                    ...  \n",
       "Venezuela             True  \n",
       "Vietnam              False  \n",
       "Yemen                False  \n",
       "Zambia               False  \n",
       "Zimbabwe             False  \n",
       "\n",
       "[193 rows x 22 columns]"
      ]
     },
     "execution_count": 72,
     "metadata": {},
     "output_type": "execute_result"
    }
   ],
   "source": [
    "countries = is_overweight(\"bmi_women\", \"women_overweight\", countries)\n",
    "countries = is_overweight(\"bmi_men\", \"men_overweight\", countries)\n",
    "countries"
   ]
  },
  {
   "cell_type": "markdown",
   "metadata": {},
   "source": [
    "3.Zjisti, v jakých zemích, které NEpatří do low_income group, mají průměrně méně než 3000 kalorií na den"
   ]
  },
  {
   "cell_type": "code",
   "execution_count": 89,
   "metadata": {},
   "outputs": [
    {
     "data": {
      "text/html": [
       "<div>\n",
       "<style scoped>\n",
       "    .dataframe tbody tr th:only-of-type {\n",
       "        vertical-align: middle;\n",
       "    }\n",
       "\n",
       "    .dataframe tbody tr th {\n",
       "        vertical-align: top;\n",
       "    }\n",
       "\n",
       "    .dataframe thead th {\n",
       "        text-align: right;\n",
       "    }\n",
       "</style>\n",
       "<table border=\"1\" class=\"dataframe\">\n",
       "  <thead>\n",
       "    <tr style=\"text-align: right;\">\n",
       "      <th></th>\n",
       "      <th>income_groups</th>\n",
       "      <th>calories_per_day</th>\n",
       "    </tr>\n",
       "    <tr>\n",
       "      <th>name</th>\n",
       "      <th></th>\n",
       "      <th></th>\n",
       "    </tr>\n",
       "  </thead>\n",
       "  <tbody>\n",
       "    <tr>\n",
       "      <th>Afghanistan</th>\n",
       "      <td>low_income</td>\n",
       "      <td>2090.0</td>\n",
       "    </tr>\n",
       "    <tr>\n",
       "      <th>Angola</th>\n",
       "      <td>upper_middle_income</td>\n",
       "      <td>2473.0</td>\n",
       "    </tr>\n",
       "    <tr>\n",
       "      <th>Antigua and Barbuda</th>\n",
       "      <td>high_income</td>\n",
       "      <td>2417.0</td>\n",
       "    </tr>\n",
       "    <tr>\n",
       "      <th>Armenia</th>\n",
       "      <td>lower_middle_income</td>\n",
       "      <td>2928.0</td>\n",
       "    </tr>\n",
       "    <tr>\n",
       "      <th>Bahamas</th>\n",
       "      <td>high_income</td>\n",
       "      <td>2670.0</td>\n",
       "    </tr>\n",
       "    <tr>\n",
       "      <th>...</th>\n",
       "      <td>...</td>\n",
       "      <td>...</td>\n",
       "    </tr>\n",
       "    <tr>\n",
       "      <th>Venezuela</th>\n",
       "      <td>upper_middle_income</td>\n",
       "      <td>2631.0</td>\n",
       "    </tr>\n",
       "    <tr>\n",
       "      <th>Vietnam</th>\n",
       "      <td>lower_middle_income</td>\n",
       "      <td>2745.0</td>\n",
       "    </tr>\n",
       "    <tr>\n",
       "      <th>Yemen</th>\n",
       "      <td>lower_middle_income</td>\n",
       "      <td>2223.0</td>\n",
       "    </tr>\n",
       "    <tr>\n",
       "      <th>Zambia</th>\n",
       "      <td>lower_middle_income</td>\n",
       "      <td>1930.0</td>\n",
       "    </tr>\n",
       "    <tr>\n",
       "      <th>Zimbabwe</th>\n",
       "      <td>low_income</td>\n",
       "      <td>2110.0</td>\n",
       "    </tr>\n",
       "  </tbody>\n",
       "</table>\n",
       "<p>103 rows × 2 columns</p>\n",
       "</div>"
      ],
      "text/plain": [
       "                           income_groups  calories_per_day\n",
       "name                                                      \n",
       "Afghanistan                   low_income            2090.0\n",
       "Angola               upper_middle_income            2473.0\n",
       "Antigua and Barbuda          high_income            2417.0\n",
       "Armenia              lower_middle_income            2928.0\n",
       "Bahamas                      high_income            2670.0\n",
       "...                                  ...               ...\n",
       "Venezuela            upper_middle_income            2631.0\n",
       "Vietnam              lower_middle_income            2745.0\n",
       "Yemen                lower_middle_income            2223.0\n",
       "Zambia               lower_middle_income            1930.0\n",
       "Zimbabwe                      low_income            2110.0\n",
       "\n",
       "[103 rows x 2 columns]"
      ]
     },
     "execution_count": 89,
     "metadata": {},
     "output_type": "execute_result"
    }
   ],
   "source": [
    "countries[(countries[\"income_groups\"] != \"africa\") & (countries[\"calories_per_day\"] < 3000)][[\"income_groups\", \"calories_per_day\"]]"
   ]
  },
  {
   "cell_type": "markdown",
   "metadata": {},
   "source": [
    "4.Napiš kód, který vytvoří graf bmi mužů a bmi žen v zemích EU. Zkus si pohrát i s parametry - nastav figsize, barvu..."
   ]
  },
  {
   "cell_type": "code",
   "execution_count": 91,
   "metadata": {},
   "outputs": [],
   "source": [
    "barvy_regionu = {\n",
    "    \"europe\" : \"blue\", \n",
    "    \"asia\" : \"yellow\", \n",
    "    \"africa\" : \"black\", \n",
    "    \"americas\" : \"red\"\n",
    "}\n",
    "barva = countries[\"world_4region\"].map(barvy_regionu)"
   ]
  },
  {
   "cell_type": "code",
   "execution_count": 96,
   "metadata": {},
   "outputs": [
    {
     "data": {
      "image/png": "[encoded data removed]",
      "text/plain": [
       "<Figure size 504x504 with 1 Axes>"
      ]
     },
     "metadata": {
      "needs_background": "light"
     },
     "output_type": "display_data"
    }
   ],
   "source": [
    "countries.plot.scatter(\n",
    "    figsize=(7, 7),\n",
    "    xlim=(20, 32),\n",
    "    ylim=(20, 32), \n",
    "    x=\"bmi_men\",\n",
    "    y=\"bmi_women\",\n",
    "    marker=\"h\",\n",
    "    color=barva,    \n",
    "    s=countries[\"population\"] / 1e6,\n",
    "    edgecolor=\"black\",\n",
    "    alpha=0.5\n",
    ");"
   ]
  },
  {
   "cell_type": "code",
   "execution_count": 108,
   "metadata": {},
   "outputs": [
    {
     "data": {
      "application/vnd.plotly.v1+json": {
       "config": {
        "plotlyServerURL": "https://plot.ly"
       },
       "data": [
        {
         "hoverlabel": {
          "namelength": 0
         },
         "hovertemplate": "<b>%{hovertext}</b><br><br>world_4region=asia<br>bmi_men=%{x}<br>bmi_women=%{y}<br>population=%{marker.size}",
         "hovertext": [
          "Afghanistan",
          "Australia",
          "Bahrain",
          "Bangladesh",
          "Bhutan",
          "Brunei",
          "Cambodia",
          "China",
          "Federated States of Micronesia",
          "Fiji",
          "India",
          "Indonesia",
          "Iran",
          "Iraq",
          "Israel",
          "Japan",
          "Jordan",
          "Kazakhstan",
          "Kiribati",
          "Kuwait",
          "Kyrgyzstan",
          "Laos",
          "Lebanon",
          "Malaysia",
          "Maldives",
          "Marshall Islands",
          "Mongolia",
          "Myanmar",
          "Nauru",
          "Nepal",
          "New Zealand",
          "North Korea",
          "Oman",
          "Pakistan",
          "Palau",
          "Papua New Guinea",
          "Philippines",
          "Qatar",
          "Samoa",
          "Saudi Arabia",
          "Singapore",
          "Solomon Islands",
          "South Korea",
          "Sri Lanka",
          "Syria",
          "Tajikistan",
          "Thailand",
          "Timor-Leste",
          "Tonga",
          "Turkmenistan",
          "Tuvalu",
          "United Arab Emirates",
          "Uzbekistan",
          "Vanuatu",
          "Vietnam",
          "Yemen"
         ],
         "legendgroup": "asia",
         "marker": {
          "color": "#636efa",
          "size": [
           34500000,
           23210000,
           1377000,
           154400000,
           762300,
           419800,
           14660000,
           1359000000,
           112700,
           882900,
           1275000000,
           247200000,
           76410000,
           34780000,
           7819000,
           126300000,
           6573000,
           16550000,
           104300,
           2959000,
           5503000,
           6459000,
           4324000,
           29790000,
           328600,
           56690,
           2888000,
           49120000,
           10440,
           31540000,
           4508000,
           24650000,
           2957000,
           183200000,
           20920,
           7327000,
           98110000,
           1977000,
           185700,
           29320000,
           5301000,
           580800,
           48770000,
           21390000,
           21470000,
           7184000,
           70240000,
           1224000,
           105300,
           5235000,
           9888,
           8208000,
           28400000,
           257800,
           90660000,
           26360000
          ],
          "sizemode": "area",
          "sizeref": 3397500,
          "symbol": "circle"
         },
         "mode": "markers",
         "name": "asia",
         "showlegend": true,
         "type": "scatter",
         "x": [
          20.62,
          27.56,
          27.84,
          20.4,
          22.82,
          24.18,
          20.8,
          22.92,
          28.1,
          26.53,
          20.96,
          21.86,
          25.31,
          26.71,
          27.13,
          23.5,
          27.47,
          26.29,
          29.24,
          29.17,
          24.75,
          21.08,
          27.2,
          24.73,
          23.22,
          29.37,
          24.88,
          21.45,
          33.9,
          20.76,
          27.77,
          22.02,
          26.24,
          22.3,
          30.38,
          25.02,
          22.87,
          28.13,
          30.42,
          27.88,
          23.84,
          27.16,
          23.99,
          21.97,
          26.92,
          23.78,
          23.01,
          20.59,
          31,
          25.25,
          null,
          28.05,
          25.32,
          26.79,
          20.92,
          24.44
         ],
         "xaxis": "x",
         "y": [
          21.07,
          26.88,
          28.79,
          20.55,
          22.88,
          22.89,
          21.7,
          22.91,
          31.28,
          29.34,
          21.31,
          22.99,
          27.24,
          28.41,
          27.3,
          21.87,
          29.22,
          26.65,
          31.31,
          31.16,
          25.68,
          22.03,
          27.7,
          25.45,
          26.41,
          31.39,
          25.71,
          22.48,
          35.02,
          20.73,
          27.37,
          21.25,
          26.67,
          23.45,
          31.85,
          25.77,
          23.47,
          28.91,
          33.66,
          29.6,
          22.87,
          28.88,
          23.33,
          23.12,
          28.87,
          23.85,
          24.39,
          21.51,
          34.26,
          24.66,
          null,
          29.61,
          25.43,
          28.46,
          21.07,
          26.11
         ],
         "yaxis": "y"
        },
        {
         "hoverlabel": {
          "namelength": 0
         },
         "hovertemplate": "<b>%{hovertext}</b><br><br>world_4region=europe<br>bmi_men=%{x}<br>bmi_women=%{y}<br>population=%{marker.size}",
         "hovertext": [
          "Albania",
          "Andorra",
          "Armenia",
          "Austria",
          "Azerbaijan",
          "Belarus",
          "Belgium",
          "Bosnia and Herzegovina",
          "Bulgaria",
          "Croatia",
          "Cyprus",
          "Czechia",
          "Denmark",
          "Estonia",
          "Finland",
          "France",
          "Georgia",
          "Germany",
          "Greece",
          "Hungary",
          "Iceland",
          "Ireland",
          "Italy",
          "Latvia",
          "Liechtenstein",
          "Lithuania",
          "Luxembourg",
          "Malta",
          "Moldova",
          "Monaco",
          "Montenegro",
          "Netherlands",
          "North Macedonia",
          "Norway",
          "Poland",
          "Portugal",
          "Romania",
          "Russia",
          "San Marino",
          "Serbia",
          "Slovakia",
          "Slovenia",
          "Spain",
          "Sweden",
          "Switzerland",
          "Turkey",
          "Ukraine",
          "United Kingdom"
         ],
         "legendgroup": "europe",
         "marker": {
          "color": "#EF553B",
          "size": [
           3238000,
           88910,
           3118000,
           8441000,
           9533000,
           9498000,
           10820000,
           3736000,
           7349000,
           4379000,
           1141000,
           10590000,
           5611000,
           1339000,
           5419000,
           63780000,
           4278000,
           81800000,
           11450000,
           9934000,
           332000,
           4631000,
           61090000,
           2226000,
           36870,
           3278000,
           530000,
           420600,
           3496000,
           35460,
           633200,
           16760000,
           2069000,
           4992000,
           38330000,
           10700000,
           21340000,
           142600000,
           32160,
           9835000,
           5489000,
           2045000,
           47040000,
           9546000,
           7762000,
           75360000,
           44700000,
           63180000
          ],
          "sizemode": "area",
          "sizeref": 3397500,
          "symbol": "circle"
         },
         "mode": "markers",
         "name": "europe",
         "showlegend": true,
         "type": "scatter",
         "x": [
          26.45,
          27.63,
          25.36,
          26.47,
          25.65,
          26.16,
          26.76,
          26.61,
          26.54,
          26.6,
          27.42,
          27.91,
          26.13,
          26.26,
          26.73,
          25.85,
          25.55,
          27.17,
          26.34,
          27.12,
          27.21,
          27.65,
          26.48,
          26.46,
          null,
          26.86,
          27.43,
          27.68,
          24.24,
          null,
          26.55,
          26.02,
          26.34,
          26.93,
          26.67,
          26.68,
          25.41,
          26.01,
          null,
          26.51,
          26.93,
          27.44,
          27.5,
          26.38,
          26.2,
          26.7,
          25.42,
          27.39
         ],
         "xaxis": "x",
         "y": [
          25.66,
          26.43,
          27.13,
          25.09,
          27.51,
          26.64,
          25.14,
          26.36,
          25.52,
          25.18,
          25.93,
          26.51,
          25.11,
          25.19,
          25.58,
          24.83,
          26.45,
          25.74,
          24.92,
          25.98,
          26.03,
          26.62,
          24.79,
          25.62,
          null,
          26.01,
          26.09,
          27.05,
          27.06,
          null,
          25.7,
          25.47,
          25.38,
          25.74,
          25.92,
          26.18,
          25.22,
          27.21,
          null,
          25.67,
          26.32,
          26.58,
          26.31,
          25.15,
          24.07,
          28.25,
          26.23,
          26.94
         ],
         "yaxis": "y"
        },
        {
         "hoverlabel": {
          "namelength": 0
         },
         "hovertemplate": "<b>%{hovertext}</b><br><br>world_4region=africa<br>bmi_men=%{x}<br>bmi_women=%{y}<br>population=%{marker.size}",
         "hovertext": [
          "Algeria",
          "Angola",
          "Benin",
          "Botswana",
          "Burkina Faso",
          "Burundi",
          "Cameroon",
          "Cape Verde",
          "Central African Republic",
          "Chad",
          "Comoros",
          "Congo",
          "Cote d'Ivoire",
          "Democratic Republic of the Congo",
          "Djibouti",
          "Egypt",
          "Equatorial Guinea",
          "Eritrea",
          "Ethiopia",
          "Gabon",
          "Gambia",
          "Ghana",
          "Guinea",
          "Guinea-Bissau",
          "Kenya",
          "Lesotho",
          "Liberia",
          "Libya",
          "Madagascar",
          "Malawi",
          "Mali",
          "Mauritania",
          "Mauritius",
          "Morocco",
          "Mozambique",
          "Namibia",
          "Niger",
          "Nigeria",
          "Rwanda",
          "Sao Tome and Principe",
          "Senegal",
          "Seychelles",
          "Sierra Leone",
          "Somalia",
          "South Africa",
          "South Sudan",
          "Sudan",
          "Swaziland",
          "Tanzania",
          "Togo",
          "Tunisia",
          "Uganda",
          "Zambia",
          "Zimbabwe"
         ],
         "legendgroup": "africa",
         "marker": {
          "color": "#00cc96",
          "size": [
           36980000,
           20710000,
           9607000,
           2075000,
           18010000,
           8911000,
           20910000,
           510200,
           4667000,
           12140000,
           792900,
           4324000,
           21060000,
           71420000,
           940100,
           85380000,
           761000,
           5748000,
           88360000,
           1594000,
           1874000,
           26130000,
           10750000,
           1613000,
           43920000,
           2240000,
           4349000,
           6506000,
           22560000,
           16410000,
           16810000,
           3704000,
           1321000,
           32930000,
           25030000,
           2404000,
           17240000,
           170900000,
           11610000,
           175400,
           13450000,
           87420,
           6255000,
           10050000,
           50980000,
           10880000,
           35940000,
           1237000,
           49150000,
           6413000,
           10810000,
           36760000,
           14310000,
           13330000
          ],
          "sizemode": "area",
          "sizeref": 3397500,
          "symbol": "circle"
         },
         "mode": "markers",
         "name": "africa",
         "showlegend": true,
         "type": "scatter",
         "x": [
          24.6,
          22.25,
          22.42,
          22.13,
          21.27,
          21.5,
          23.68,
          23.52,
          20.99,
          21.49,
          22.06,
          21.87,
          22.56,
          19.87,
          23.38,
          26.73,
          23.77,
          20.89,
          20.25,
          24.08,
          21.65,
          22.84,
          22.52,
          21.64,
          21.59,
          21.9,
          21.9,
          26.54,
          21.4,
          22.03,
          21.79,
          22.62,
          25.16,
          25.63,
          21.94,
          22.65,
          21.22,
          23.03,
          22.55,
          23.51,
          21.93,
          25.56,
          22.53,
          21.97,
          26.86,
          null,
          22.4,
          23.17,
          22.48,
          21.88,
          25.16,
          22.36,
          20.68,
          22.03
         ],
         "xaxis": "x",
         "y": [
          26.37,
          23.48,
          23.74,
          26.09,
          21.63,
          21.28,
          24.95,
          24.96,
          22.4,
          21.95,
          22.44,
          23.11,
          23.82,
          21.67,
          24.38,
          30.1,
          24.53,
          21.08,
          20.71,
          25.95,
          24.82,
          24.33,
          22.45,
          22.93,
          23.06,
          26.78,
          23.22,
          29.2,
          20.74,
          22.91,
          23.08,
          26.26,
          26.1,
          26.22,
          23.32,
          25.15,
          21.96,
          23.67,
          22.07,
          24.88,
          24.31,
          27.97,
          23.93,
          22.67,
          29.48,
          null,
          23.16,
          28.45,
          23.08,
          22.74,
          27.94,
          22.48,
          23.05,
          24.65
         ],
         "yaxis": "y"
        },
        {
         "hoverlabel": {
          "namelength": 0
         },
         "hovertemplate": "<b>%{hovertext}</b><br><br>world_4region=americas<br>bmi_men=%{x}<br>bmi_women=%{y}<br>population=%{marker.size}",
         "hovertext": [
          "Antigua and Barbuda",
          "Argentina",
          "Bahamas",
          "Barbados",
          "Belize",
          "Bolivia",
          "Brazil",
          "Canada",
          "Chile",
          "Colombia",
          "Costa Rica",
          "Cuba",
          "Dominica",
          "Dominican Republic",
          "Ecuador",
          "El Salvador",
          "Grenada",
          "Guatemala",
          "Guyana",
          "Haiti",
          "Honduras",
          "Jamaica",
          "Mexico",
          "Nicaragua",
          "Panama",
          "Paraguay",
          "Peru",
          "Saint Kitts and Nevis",
          "Saint Lucia",
          "Saint Vincent and the Grenadines",
          "Suriname",
          "Trinidad and Tobago",
          "United States",
          "Uruguay",
          "Venezuela"
         ],
         "legendgroup": "americas",
         "marker": {
          "color": "#ab63fa",
          "size": [
           91400,
           41470000,
           355200,
           275100,
           330700,
           10410000,
           200100000,
           34990000,
           17570000,
           48170000,
           4860000,
           11240000,
           67700,
           10310000,
           15060000,
           6303000,
           105700,
           15530000,
           759300,
           10390000,
           8072000,
           2771000,
           117500000,
           6042000,
           3678000,
           6798000,
           30080000,
           54340,
           179500,
           109400,
           538900,
           1355000,
           318500000,
           3403000,
           30340000
          ],
          "sizemode": "area",
          "sizeref": 3397500,
          "symbol": "circle"
         },
         "mode": "markers",
         "name": "americas",
         "showlegend": true,
         "type": "scatter",
         "x": [
          25.77,
          27.5,
          27.25,
          26.38,
          27.02,
          24.43,
          25.79,
          27.45,
          27.02,
          24.94,
          26.48,
          25.07,
          24.57,
          25.2,
          25.59,
          26.37,
          25.18,
          25.3,
          23.68,
          23.66,
          25.11,
          24,
          27.42,
          25.77,
          26.27,
          25.54,
          24.77,
          28.23,
          24.65,
          25.44,
          25.5,
          26.4,
          28.46,
          26.39,
          27.45
         ],
         "xaxis": "x",
         "y": [
          27.51,
          27.47,
          29.14,
          29.22,
          29.82,
          26.86,
          25.99,
          26.7,
          27.93,
          26.23,
          27.03,
          26.58,
          28.78,
          26.87,
          27.06,
          27.84,
          27.32,
          26.84,
          26.47,
          23.28,
          26.73,
          27.23,
          28.74,
          27.57,
          27.68,
          25.91,
          25.99,
          30.51,
          27.22,
          27.52,
          27.75,
          28.28,
          28.34,
          26.59,
          28.13
         ],
         "yaxis": "y"
        }
       ],
       "layout": {
        "legend": {
         "itemsizing": "constant",
         "title": {
          "text": "world_4region"
         },
         "tracegroupgap": 0
        },
        "margin": {
         "t": 60
        },
        "template": {
         "data": {
          "bar": [
           {
            "error_x": {
             "color": "#2a3f5f"
            },
            "error_y": {
             "color": "#2a3f5f"
            },
            "marker": {
             "line": {
              "color": "#E5ECF6",
              "width": 0.5
             }
            },
            "type": "bar"
           }
          ],
          "barpolar": [
           {
            "marker": {
             "line": {
              "color": "#E5ECF6",
              "width": 0.5
             }
            },
            "type": "barpolar"
           }
          ],
          "carpet": [
           {
            "aaxis": {
             "endlinecolor": "#2a3f5f",
             "gridcolor": "white",
             "linecolor": "white",
             "minorgridcolor": "white",
             "startlinecolor": "#2a3f5f"
            },
            "baxis": {
             "endlinecolor": "#2a3f5f",
             "gridcolor": "white",
             "linecolor": "white",
             "minorgridcolor": "white",
             "startlinecolor": "#2a3f5f"
            },
            "type": "carpet"
           }
          ],
          "choropleth": [
           {
            "colorbar": {
             "outlinewidth": 0,
             "ticks": ""
            },
            "type": "choropleth"
           }
          ],
          "contour": [
           {
            "colorbar": {
             "outlinewidth": 0,
             "ticks": ""
            },
            "colorscale": [
             [
              0,
              "#0d0887"
             ],
             [
              0.1111111111111111,
              "#46039f"
             ],
             [
              0.2222222222222222,
              "#7201a8"
             ],
             [
              0.3333333333333333,
              "#9c179e"
             ],
             [
              0.4444444444444444,
              "#bd3786"
             ],
             [
              0.5555555555555556,
              "#d8576b"
             ],
             [
              0.6666666666666666,
              "#ed7953"
             ],
             [
              0.7777777777777778,
              "#fb9f3a"
             ],
             [
              0.8888888888888888,
              "#fdca26"
             ],
             [
              1,
              "#f0f921"
             ]
            ],
            "type": "contour"
           }
          ],
          "contourcarpet": [
           {
            "colorbar": {
             "outlinewidth": 0,
             "ticks": ""
            },
            "type": "contourcarpet"
           }
          ],
          "heatmap": [
           {
            "colorbar": {
             "outlinewidth": 0,
             "ticks": ""
            },
            "colorscale": [
             [
              0,
              "#0d0887"
             ],
             [
              0.1111111111111111,
              "#46039f"
             ],
             [
              0.2222222222222222,
              "#7201a8"
             ],
             [
              0.3333333333333333,
              "#9c179e"
             ],
             [
              0.4444444444444444,
              "#bd3786"
             ],
             [
              0.5555555555555556,
              "#d8576b"
             ],
             [
              0.6666666666666666,
              "#ed7953"
             ],
             [
              0.7777777777777778,
              "#fb9f3a"
             ],
             [
              0.8888888888888888,
              "#fdca26"
             ],
             [
              1,
              "#f0f921"
             ]
            ],
            "type": "heatmap"
           }
          ],
          "heatmapgl": [
           {
            "colorbar": {
             "outlinewidth": 0,
             "ticks": ""
            },
            "colorscale": [
             [
              0,
              "#0d0887"
             ],
             [
              0.1111111111111111,
              "#46039f"
             ],
             [
              0.2222222222222222,
              "#7201a8"
             ],
             [
              0.3333333333333333,
              "#9c179e"
             ],
             [
              0.4444444444444444,
              "#bd3786"
             ],
             [
              0.5555555555555556,
              "#d8576b"
             ],
             [
              0.6666666666666666,
              "#ed7953"
             ],
             [
              0.7777777777777778,
              "#fb9f3a"
             ],
             [
              0.8888888888888888,
              "#fdca26"
             ],
             [
              1,
              "#f0f921"
             ]
            ],
            "type": "heatmapgl"
           }
          ],
          "histogram": [
           {
            "marker": {
             "colorbar": {
              "outlinewidth": 0,
              "ticks": ""
             }
            },
            "type": "histogram"
           }
          ],
          "histogram2d": [
           {
            "colorbar": {
             "outlinewidth": 0,
             "ticks": ""
            },
            "colorscale": [
             [
              0,
              "#0d0887"
             ],
             [
              0.1111111111111111,
              "#46039f"
             ],
             [
              0.2222222222222222,
              "#7201a8"
             ],
             [
              0.3333333333333333,
              "#9c179e"
             ],
             [
              0.4444444444444444,
              "#bd3786"
             ],
             [
              0.5555555555555556,
              "#d8576b"
             ],
             [
              0.6666666666666666,
              "#ed7953"
             ],
             [
              0.7777777777777778,
              "#fb9f3a"
             ],
             [
              0.8888888888888888,
              "#fdca26"
             ],
             [
              1,
              "#f0f921"
             ]
            ],
            "type": "histogram2d"
           }
          ],
          "histogram2dcontour": [
           {
            "colorbar": {
             "outlinewidth": 0,
             "ticks": ""
            },
            "colorscale": [
             [
              0,
              "#0d0887"
             ],
             [
              0.1111111111111111,
              "#46039f"
             ],
             [
              0.2222222222222222,
              "#7201a8"
             ],
             [
              0.3333333333333333,
              "#9c179e"
             ],
             [
              0.4444444444444444,
              "#bd3786"
             ],
             [
              0.5555555555555556,
              "#d8576b"
             ],
             [
              0.6666666666666666,
              "#ed7953"
             ],
             [
              0.7777777777777778,
              "#fb9f3a"
             ],
             [
              0.8888888888888888,
              "#fdca26"
             ],
             [
              1,
              "#f0f921"
             ]
            ],
            "type": "histogram2dcontour"
           }
          ],
          "mesh3d": [
           {
            "colorbar": {
             "outlinewidth": 0,
             "ticks": ""
            },
            "type": "mesh3d"
           }
          ],
          "parcoords": [
           {
            "line": {
             "colorbar": {
              "outlinewidth": 0,
              "ticks": ""
             }
            },
            "type": "parcoords"
           }
          ],
          "pie": [
           {
            "automargin": true,
            "type": "pie"
           }
          ],
          "scatter": [
           {
            "marker": {
             "colorbar": {
              "outlinewidth": 0,
              "ticks": ""
             }
            },
            "type": "scatter"
           }
          ],
          "scatter3d": [
           {
            "line": {
             "colorbar": {
              "outlinewidth": 0,
              "ticks": ""
             }
            },
            "marker": {
             "colorbar": {
              "outlinewidth": 0,
              "ticks": ""
             }
            },
            "type": "scatter3d"
           }
          ],
          "scattercarpet": [
           {
            "marker": {
             "colorbar": {
              "outlinewidth": 0,
              "ticks": ""
             }
            },
            "type": "scattercarpet"
           }
          ],
          "scattergeo": [
           {
            "marker": {
             "colorbar": {
              "outlinewidth": 0,
              "ticks": ""
             }
            },
            "type": "scattergeo"
           }
          ],
          "scattergl": [
           {
            "marker": {
             "colorbar": {
              "outlinewidth": 0,
              "ticks": ""
             }
            },
            "type": "scattergl"
           }
          ],
          "scattermapbox": [
           {
            "marker": {
             "colorbar": {
              "outlinewidth": 0,
              "ticks": ""
             }
            },
            "type": "scattermapbox"
           }
          ],
          "scatterpolar": [
           {
            "marker": {
             "colorbar": {
              "outlinewidth": 0,
              "ticks": ""
             }
            },
            "type": "scatterpolar"
           }
          ],
          "scatterpolargl": [
           {
            "marker": {
             "colorbar": {
              "outlinewidth": 0,
              "ticks": ""
             }
            },
            "type": "scatterpolargl"
           }
          ],
          "scatterternary": [
           {
            "marker": {
             "colorbar": {
              "outlinewidth": 0,
              "ticks": ""
             }
            },
            "type": "scatterternary"
           }
          ],
          "surface": [
           {
            "colorbar": {
             "outlinewidth": 0,
             "ticks": ""
            },
            "colorscale": [
             [
              0,
              "#0d0887"
             ],
             [
              0.1111111111111111,
              "#46039f"
             ],
             [
              0.2222222222222222,
              "#7201a8"
             ],
             [
              0.3333333333333333,
              "#9c179e"
             ],
             [
              0.4444444444444444,
              "#bd3786"
             ],
             [
              0.5555555555555556,
              "#d8576b"
             ],
             [
              0.6666666666666666,
              "#ed7953"
             ],
             [
              0.7777777777777778,
              "#fb9f3a"
             ],
             [
              0.8888888888888888,
              "#fdca26"
             ],
             [
              1,
              "#f0f921"
             ]
            ],
            "type": "surface"
           }
          ],
          "table": [
           {
            "cells": {
             "fill": {
              "color": "#EBF0F8"
             },
             "line": {
              "color": "white"
             }
            },
            "header": {
             "fill": {
              "color": "#C8D4E3"
             },
             "line": {
              "color": "white"
             }
            },
            "type": "table"
           }
          ]
         },
         "layout": {
          "annotationdefaults": {
           "arrowcolor": "#2a3f5f",
           "arrowhead": 0,
           "arrowwidth": 1
          },
          "coloraxis": {
           "colorbar": {
            "outlinewidth": 0,
            "ticks": ""
           }
          },
          "colorscale": {
           "diverging": [
            [
             0,
             "#8e0152"
            ],
            [
             0.1,
             "#c51b7d"
            ],
            [
             0.2,
             "#de77ae"
            ],
            [
             0.3,
             "#f1b6da"
            ],
            [
             0.4,
             "#fde0ef"
            ],
            [
             0.5,
             "#f7f7f7"
            ],
            [
             0.6,
             "#e6f5d0"
            ],
            [
             0.7,
             "#b8e186"
            ],
            [
             0.8,
             "#7fbc41"
            ],
            [
             0.9,
             "#4d9221"
            ],
            [
             1,
             "#276419"
            ]
           ],
           "sequential": [
            [
             0,
             "#0d0887"
            ],
            [
             0.1111111111111111,
             "#46039f"
            ],
            [
             0.2222222222222222,
             "#7201a8"
            ],
            [
             0.3333333333333333,
             "#9c179e"
            ],
            [
             0.4444444444444444,
             "#bd3786"
            ],
            [
             0.5555555555555556,
             "#d8576b"
            ],
            [
             0.6666666666666666,
             "#ed7953"
            ],
            [
             0.7777777777777778,
             "#fb9f3a"
            ],
            [
             0.8888888888888888,
             "#fdca26"
            ],
            [
             1,
             "#f0f921"
            ]
           ],
           "sequentialminus": [
            [
             0,
             "#0d0887"
            ],
            [
             0.1111111111111111,
             "#46039f"
            ],
            [
             0.2222222222222222,
             "#7201a8"
            ],
            [
             0.3333333333333333,
             "#9c179e"
            ],
            [
             0.4444444444444444,
             "#bd3786"
            ],
            [
             0.5555555555555556,
             "#d8576b"
            ],
            [
             0.6666666666666666,
             "#ed7953"
            ],
            [
             0.7777777777777778,
             "#fb9f3a"
            ],
            [
             0.8888888888888888,
             "#fdca26"
            ],
            [
             1,
             "#f0f921"
            ]
           ]
          },
          "colorway": [
           "#636efa",
           "#EF553B",
           "#00cc96",
           "#ab63fa",
           "#FFA15A",
           "#19d3f3",
           "#FF6692",
           "#B6E880",
           "#FF97FF",
           "#FECB52"
          ],
          "font": {
           "color": "#2a3f5f"
          },
          "geo": {
           "bgcolor": "white",
           "lakecolor": "white",
           "landcolor": "#E5ECF6",
           "showlakes": true,
           "showland": true,
           "subunitcolor": "white"
          },
          "hoverlabel": {
           "align": "left"
          },
          "hovermode": "closest",
          "mapbox": {
           "style": "light"
          },
          "paper_bgcolor": "white",
          "plot_bgcolor": "#E5ECF6",
          "polar": {
           "angularaxis": {
            "gridcolor": "white",
            "linecolor": "white",
            "ticks": ""
           },
           "bgcolor": "#E5ECF6",
           "radialaxis": {
            "gridcolor": "white",
            "linecolor": "white",
            "ticks": ""
           }
          },
          "scene": {
           "xaxis": {
            "backgroundcolor": "#E5ECF6",
            "gridcolor": "white",
            "gridwidth": 2,
            "linecolor": "white",
            "showbackground": true,
            "ticks": "",
            "zerolinecolor": "white"
           },
           "yaxis": {
            "backgroundcolor": "#E5ECF6",
            "gridcolor": "white",
            "gridwidth": 2,
            "linecolor": "white",
            "showbackground": true,
            "ticks": "",
            "zerolinecolor": "white"
           },
           "zaxis": {
            "backgroundcolor": "#E5ECF6",
            "gridcolor": "white",
            "gridwidth": 2,
            "linecolor": "white",
            "showbackground": true,
            "ticks": "",
            "zerolinecolor": "white"
           }
          },
          "shapedefaults": {
           "line": {
            "color": "#2a3f5f"
           }
          },
          "ternary": {
           "aaxis": {
            "gridcolor": "white",
            "linecolor": "white",
            "ticks": ""
           },
           "baxis": {
            "gridcolor": "white",
            "linecolor": "white",
            "ticks": ""
           },
           "bgcolor": "#E5ECF6",
           "caxis": {
            "gridcolor": "white",
            "linecolor": "white",
            "ticks": ""
           }
          },
          "title": {
           "x": 0.05
          },
          "xaxis": {
           "automargin": true,
           "gridcolor": "white",
           "linecolor": "white",
           "ticks": "",
           "title": {
            "standoff": 15
           },
           "zerolinecolor": "white",
           "zerolinewidth": 2
          },
          "yaxis": {
           "automargin": true,
           "gridcolor": "white",
           "linecolor": "white",
           "ticks": "",
           "title": {
            "standoff": 15
           },
           "zerolinecolor": "white",
           "zerolinewidth": 2
          }
         }
        },
        "xaxis": {
         "anchor": "y",
         "domain": [
          0,
          1
         ],
         "title": {
          "text": "bmi_men"
         }
        },
        "yaxis": {
         "anchor": "x",
         "domain": [
          0,
          1
         ],
         "title": {
          "text": "bmi_women"
         }
        }
       }
      },
      "text/html": [
       "<div>\n",
       "        \n",
       "        \n",
       "            <div id=\"d6884627-f406-4ec9-bf4a-1ca2cd1a42d8\" class=\"plotly-graph-div\" style=\"height:525px; width:100%;\"></div>\n",
       "            <script type=\"text/javascript\">\n",
       "                require([\"plotly\"], function(Plotly) {\n",
       "                    window.PLOTLYENV=window.PLOTLYENV || {};\n",
       "                    \n",
       "                if (document.getElementById(\"d6884627-f406-4ec9-bf4a-1ca2cd1a42d8\")) {\n",
       "                    Plotly.newPlot(\n",
       "                        'd6884627-f406-4ec9-bf4a-1ca2cd1a42d8',\n",
       "                        [{\"hoverlabel\": {\"namelength\": 0}, \"hovertemplate\": \"<b>%{hovertext}</b><br><br>world_4region=asia<br>bmi_men=%{x}<br>bmi_women=%{y}<br>population=%{marker.size}\", \"hovertext\": [\"Afghanistan\", \"Australia\", \"Bahrain\", \"Bangladesh\", \"Bhutan\", \"Brunei\", \"Cambodia\", \"China\", \"Federated States of Micronesia\", \"Fiji\", \"India\", \"Indonesia\", \"Iran\", \"Iraq\", \"Israel\", \"Japan\", \"Jordan\", \"Kazakhstan\", \"Kiribati\", \"Kuwait\", \"Kyrgyzstan\", \"Laos\", \"Lebanon\", \"Malaysia\", \"Maldives\", \"Marshall Islands\", \"Mongolia\", \"Myanmar\", \"Nauru\", \"Nepal\", \"New Zealand\", \"North Korea\", \"Oman\", \"Pakistan\", \"Palau\", \"Papua New Guinea\", \"Philippines\", \"Qatar\", \"Samoa\", \"Saudi Arabia\", \"Singapore\", \"Solomon Islands\", \"South Korea\", \"Sri Lanka\", \"Syria\", \"Tajikistan\", \"Thailand\", \"Timor-Leste\", \"Tonga\", \"Turkmenistan\", \"Tuvalu\", \"United Arab Emirates\", \"Uzbekistan\", \"Vanuatu\", \"Vietnam\", \"Yemen\"], \"legendgroup\": \"asia\", \"marker\": {\"color\": \"#636efa\", \"size\": [34500000.0, 23210000.0, 1377000.0, 154400000.0, 762300.0, 419800.0, 14660000.0, 1359000000.0, 112700.0, 882900.0, 1275000000.0, 247200000.0, 76410000.0, 34780000.0, 7819000.0, 126300000.0, 6573000.0, 16550000.0, 104300.0, 2959000.0, 5503000.0, 6459000.0, 4324000.0, 29790000.0, 328600.0, 56690.0, 2888000.0, 49120000.0, 10440.0, 31540000.0, 4508000.0, 24650000.0, 2957000.0, 183200000.0, 20920.0, 7327000.0, 98110000.0, 1977000.0, 185700.0, 29320000.0, 5301000.0, 580800.0, 48770000.0, 21390000.0, 21470000.0, 7184000.0, 70240000.0, 1224000.0, 105300.0, 5235000.0, 9888.0, 8208000.0, 28400000.0, 257800.0, 90660000.0, 26360000.0], \"sizemode\": \"area\", \"sizeref\": 3397500.0, \"symbol\": \"circle\"}, \"mode\": \"markers\", \"name\": \"asia\", \"showlegend\": true, \"type\": \"scatter\", \"x\": [20.62, 27.56, 27.84, 20.4, 22.82, 24.18, 20.8, 22.92, 28.1, 26.53, 20.96, 21.86, 25.31, 26.71, 27.13, 23.5, 27.47, 26.29, 29.24, 29.17, 24.75, 21.08, 27.2, 24.73, 23.22, 29.37, 24.88, 21.45, 33.9, 20.76, 27.77, 22.02, 26.24, 22.3, 30.38, 25.02, 22.87, 28.13, 30.42, 27.88, 23.84, 27.16, 23.99, 21.97, 26.92, 23.78, 23.01, 20.59, 31.0, 25.25, null, 28.05, 25.32, 26.79, 20.92, 24.44], \"xaxis\": \"x\", \"y\": [21.07, 26.88, 28.79, 20.55, 22.88, 22.89, 21.7, 22.91, 31.28, 29.34, 21.31, 22.99, 27.24, 28.41, 27.3, 21.87, 29.22, 26.65, 31.31, 31.16, 25.68, 22.03, 27.7, 25.45, 26.41, 31.39, 25.71, 22.48, 35.02, 20.73, 27.37, 21.25, 26.67, 23.45, 31.85, 25.77, 23.47, 28.91, 33.66, 29.6, 22.87, 28.88, 23.33, 23.12, 28.87, 23.85, 24.39, 21.51, 34.26, 24.66, null, 29.61, 25.43, 28.46, 21.07, 26.11], \"yaxis\": \"y\"}, {\"hoverlabel\": {\"namelength\": 0}, \"hovertemplate\": \"<b>%{hovertext}</b><br><br>world_4region=europe<br>bmi_men=%{x}<br>bmi_women=%{y}<br>population=%{marker.size}\", \"hovertext\": [\"Albania\", \"Andorra\", \"Armenia\", \"Austria\", \"Azerbaijan\", \"Belarus\", \"Belgium\", \"Bosnia and Herzegovina\", \"Bulgaria\", \"Croatia\", \"Cyprus\", \"Czechia\", \"Denmark\", \"Estonia\", \"Finland\", \"France\", \"Georgia\", \"Germany\", \"Greece\", \"Hungary\", \"Iceland\", \"Ireland\", \"Italy\", \"Latvia\", \"Liechtenstein\", \"Lithuania\", \"Luxembourg\", \"Malta\", \"Moldova\", \"Monaco\", \"Montenegro\", \"Netherlands\", \"North Macedonia\", \"Norway\", \"Poland\", \"Portugal\", \"Romania\", \"Russia\", \"San Marino\", \"Serbia\", \"Slovakia\", \"Slovenia\", \"Spain\", \"Sweden\", \"Switzerland\", \"Turkey\", \"Ukraine\", \"United Kingdom\"], \"legendgroup\": \"europe\", \"marker\": {\"color\": \"#EF553B\", \"size\": [3238000.0, 88910.0, 3118000.0, 8441000.0, 9533000.0, 9498000.0, 10820000.0, 3736000.0, 7349000.0, 4379000.0, 1141000.0, 10590000.0, 5611000.0, 1339000.0, 5419000.0, 63780000.0, 4278000.0, 81800000.0, 11450000.0, 9934000.0, 332000.0, 4631000.0, 61090000.0, 2226000.0, 36870.0, 3278000.0, 530000.0, 420600.0, 3496000.0, 35460.0, 633200.0, 16760000.0, 2069000.0, 4992000.0, 38330000.0, 10700000.0, 21340000.0, 142600000.0, 32160.0, 9835000.0, 5489000.0, 2045000.0, 47040000.0, 9546000.0, 7762000.0, 75360000.0, 44700000.0, 63180000.0], \"sizemode\": \"area\", \"sizeref\": 3397500.0, \"symbol\": \"circle\"}, \"mode\": \"markers\", \"name\": \"europe\", \"showlegend\": true, \"type\": \"scatter\", \"x\": [26.45, 27.63, 25.36, 26.47, 25.65, 26.16, 26.76, 26.61, 26.54, 26.6, 27.42, 27.91, 26.13, 26.26, 26.73, 25.85, 25.55, 27.17, 26.34, 27.12, 27.21, 27.65, 26.48, 26.46, null, 26.86, 27.43, 27.68, 24.24, null, 26.55, 26.02, 26.34, 26.93, 26.67, 26.68, 25.41, 26.01, null, 26.51, 26.93, 27.44, 27.5, 26.38, 26.2, 26.7, 25.42, 27.39], \"xaxis\": \"x\", \"y\": [25.66, 26.43, 27.13, 25.09, 27.51, 26.64, 25.14, 26.36, 25.52, 25.18, 25.93, 26.51, 25.11, 25.19, 25.58, 24.83, 26.45, 25.74, 24.92, 25.98, 26.03, 26.62, 24.79, 25.62, null, 26.01, 26.09, 27.05, 27.06, null, 25.7, 25.47, 25.38, 25.74, 25.92, 26.18, 25.22, 27.21, null, 25.67, 26.32, 26.58, 26.31, 25.15, 24.07, 28.25, 26.23, 26.94], \"yaxis\": \"y\"}, {\"hoverlabel\": {\"namelength\": 0}, \"hovertemplate\": \"<b>%{hovertext}</b><br><br>world_4region=africa<br>bmi_men=%{x}<br>bmi_women=%{y}<br>population=%{marker.size}\", \"hovertext\": [\"Algeria\", \"Angola\", \"Benin\", \"Botswana\", \"Burkina Faso\", \"Burundi\", \"Cameroon\", \"Cape Verde\", \"Central African Republic\", \"Chad\", \"Comoros\", \"Congo\", \"Cote d'Ivoire\", \"Democratic Republic of the Congo\", \"Djibouti\", \"Egypt\", \"Equatorial Guinea\", \"Eritrea\", \"Ethiopia\", \"Gabon\", \"Gambia\", \"Ghana\", \"Guinea\", \"Guinea-Bissau\", \"Kenya\", \"Lesotho\", \"Liberia\", \"Libya\", \"Madagascar\", \"Malawi\", \"Mali\", \"Mauritania\", \"Mauritius\", \"Morocco\", \"Mozambique\", \"Namibia\", \"Niger\", \"Nigeria\", \"Rwanda\", \"Sao Tome and Principe\", \"Senegal\", \"Seychelles\", \"Sierra Leone\", \"Somalia\", \"South Africa\", \"South Sudan\", \"Sudan\", \"Swaziland\", \"Tanzania\", \"Togo\", \"Tunisia\", \"Uganda\", \"Zambia\", \"Zimbabwe\"], \"legendgroup\": \"africa\", \"marker\": {\"color\": \"#00cc96\", \"size\": [36980000.0, 20710000.0, 9607000.0, 2075000.0, 18010000.0, 8911000.0, 20910000.0, 510200.0, 4667000.0, 12140000.0, 792900.0, 4324000.0, 21060000.0, 71420000.0, 940100.0, 85380000.0, 761000.0, 5748000.0, 88360000.0, 1594000.0, 1874000.0, 26130000.0, 10750000.0, 1613000.0, 43920000.0, 2240000.0, 4349000.0, 6506000.0, 22560000.0, 16410000.0, 16810000.0, 3704000.0, 1321000.0, 32930000.0, 25030000.0, 2404000.0, 17240000.0, 170900000.0, 11610000.0, 175400.0, 13450000.0, 87420.0, 6255000.0, 10050000.0, 50980000.0, 10880000.0, 35940000.0, 1237000.0, 49150000.0, 6413000.0, 10810000.0, 36760000.0, 14310000.0, 13330000.0], \"sizemode\": \"area\", \"sizeref\": 3397500.0, \"symbol\": \"circle\"}, \"mode\": \"markers\", \"name\": \"africa\", \"showlegend\": true, \"type\": \"scatter\", \"x\": [24.6, 22.25, 22.42, 22.13, 21.27, 21.5, 23.68, 23.52, 20.99, 21.49, 22.06, 21.87, 22.56, 19.87, 23.38, 26.73, 23.77, 20.89, 20.25, 24.08, 21.65, 22.84, 22.52, 21.64, 21.59, 21.9, 21.9, 26.54, 21.4, 22.03, 21.79, 22.62, 25.16, 25.63, 21.94, 22.65, 21.22, 23.03, 22.55, 23.51, 21.93, 25.56, 22.53, 21.97, 26.86, null, 22.4, 23.17, 22.48, 21.88, 25.16, 22.36, 20.68, 22.03], \"xaxis\": \"x\", \"y\": [26.37, 23.48, 23.74, 26.09, 21.63, 21.28, 24.95, 24.96, 22.4, 21.95, 22.44, 23.11, 23.82, 21.67, 24.38, 30.1, 24.53, 21.08, 20.71, 25.95, 24.82, 24.33, 22.45, 22.93, 23.06, 26.78, 23.22, 29.2, 20.74, 22.91, 23.08, 26.26, 26.1, 26.22, 23.32, 25.15, 21.96, 23.67, 22.07, 24.88, 24.31, 27.97, 23.93, 22.67, 29.48, null, 23.16, 28.45, 23.08, 22.74, 27.94, 22.48, 23.05, 24.65], \"yaxis\": \"y\"}, {\"hoverlabel\": {\"namelength\": 0}, \"hovertemplate\": \"<b>%{hovertext}</b><br><br>world_4region=americas<br>bmi_men=%{x}<br>bmi_women=%{y}<br>population=%{marker.size}\", \"hovertext\": [\"Antigua and Barbuda\", \"Argentina\", \"Bahamas\", \"Barbados\", \"Belize\", \"Bolivia\", \"Brazil\", \"Canada\", \"Chile\", \"Colombia\", \"Costa Rica\", \"Cuba\", \"Dominica\", \"Dominican Republic\", \"Ecuador\", \"El Salvador\", \"Grenada\", \"Guatemala\", \"Guyana\", \"Haiti\", \"Honduras\", \"Jamaica\", \"Mexico\", \"Nicaragua\", \"Panama\", \"Paraguay\", \"Peru\", \"Saint Kitts and Nevis\", \"Saint Lucia\", \"Saint Vincent and the Grenadines\", \"Suriname\", \"Trinidad and Tobago\", \"United States\", \"Uruguay\", \"Venezuela\"], \"legendgroup\": \"americas\", \"marker\": {\"color\": \"#ab63fa\", \"size\": [91400.0, 41470000.0, 355200.0, 275100.0, 330700.0, 10410000.0, 200100000.0, 34990000.0, 17570000.0, 48170000.0, 4860000.0, 11240000.0, 67700.0, 10310000.0, 15060000.0, 6303000.0, 105700.0, 15530000.0, 759300.0, 10390000.0, 8072000.0, 2771000.0, 117500000.0, 6042000.0, 3678000.0, 6798000.0, 30080000.0, 54340.0, 179500.0, 109400.0, 538900.0, 1355000.0, 318500000.0, 3403000.0, 30340000.0], \"sizemode\": \"area\", \"sizeref\": 3397500.0, \"symbol\": \"circle\"}, \"mode\": \"markers\", \"name\": \"americas\", \"showlegend\": true, \"type\": \"scatter\", \"x\": [25.77, 27.5, 27.25, 26.38, 27.02, 24.43, 25.79, 27.45, 27.02, 24.94, 26.48, 25.07, 24.57, 25.2, 25.59, 26.37, 25.18, 25.3, 23.68, 23.66, 25.11, 24.0, 27.42, 25.77, 26.27, 25.54, 24.77, 28.23, 24.65, 25.44, 25.5, 26.4, 28.46, 26.39, 27.45], \"xaxis\": \"x\", \"y\": [27.51, 27.47, 29.14, 29.22, 29.82, 26.86, 25.99, 26.7, 27.93, 26.23, 27.03, 26.58, 28.78, 26.87, 27.06, 27.84, 27.32, 26.84, 26.47, 23.28, 26.73, 27.23, 28.74, 27.57, 27.68, 25.91, 25.99, 30.51, 27.22, 27.52, 27.75, 28.28, 28.34, 26.59, 28.13], \"yaxis\": \"y\"}],\n",
       "                        {\"legend\": {\"itemsizing\": \"constant\", \"title\": {\"text\": \"world_4region\"}, \"tracegroupgap\": 0}, \"margin\": {\"t\": 60}, \"template\": {\"data\": {\"bar\": [{\"error_x\": {\"color\": \"#2a3f5f\"}, \"error_y\": {\"color\": \"#2a3f5f\"}, \"marker\": {\"line\": {\"color\": \"#E5ECF6\", \"width\": 0.5}}, \"type\": \"bar\"}], \"barpolar\": [{\"marker\": {\"line\": {\"color\": \"#E5ECF6\", \"width\": 0.5}}, \"type\": \"barpolar\"}], \"carpet\": [{\"aaxis\": {\"endlinecolor\": \"#2a3f5f\", \"gridcolor\": \"white\", \"linecolor\": \"white\", \"minorgridcolor\": \"white\", \"startlinecolor\": \"#2a3f5f\"}, \"baxis\": {\"endlinecolor\": \"#2a3f5f\", \"gridcolor\": \"white\", \"linecolor\": \"white\", \"minorgridcolor\": \"white\", \"startlinecolor\": \"#2a3f5f\"}, \"type\": \"carpet\"}], \"choropleth\": [{\"colorbar\": {\"outlinewidth\": 0, \"ticks\": \"\"}, \"type\": \"choropleth\"}], \"contour\": [{\"colorbar\": {\"outlinewidth\": 0, \"ticks\": \"\"}, \"colorscale\": [[0.0, \"#0d0887\"], [0.1111111111111111, \"#46039f\"], [0.2222222222222222, \"#7201a8\"], [0.3333333333333333, \"#9c179e\"], [0.4444444444444444, \"#bd3786\"], [0.5555555555555556, \"#d8576b\"], [0.6666666666666666, \"#ed7953\"], [0.7777777777777778, \"#fb9f3a\"], [0.8888888888888888, \"#fdca26\"], [1.0, \"#f0f921\"]], \"type\": \"contour\"}], \"contourcarpet\": [{\"colorbar\": {\"outlinewidth\": 0, \"ticks\": \"\"}, \"type\": \"contourcarpet\"}], \"heatmap\": [{\"colorbar\": {\"outlinewidth\": 0, \"ticks\": \"\"}, \"colorscale\": [[0.0, \"#0d0887\"], [0.1111111111111111, \"#46039f\"], [0.2222222222222222, \"#7201a8\"], [0.3333333333333333, \"#9c179e\"], [0.4444444444444444, \"#bd3786\"], [0.5555555555555556, \"#d8576b\"], [0.6666666666666666, \"#ed7953\"], [0.7777777777777778, \"#fb9f3a\"], [0.8888888888888888, \"#fdca26\"], [1.0, \"#f0f921\"]], \"type\": \"heatmap\"}], \"heatmapgl\": [{\"colorbar\": {\"outlinewidth\": 0, \"ticks\": \"\"}, \"colorscale\": [[0.0, \"#0d0887\"], [0.1111111111111111, \"#46039f\"], [0.2222222222222222, \"#7201a8\"], [0.3333333333333333, \"#9c179e\"], [0.4444444444444444, \"#bd3786\"], [0.5555555555555556, \"#d8576b\"], [0.6666666666666666, \"#ed7953\"], [0.7777777777777778, \"#fb9f3a\"], [0.8888888888888888, \"#fdca26\"], [1.0, \"#f0f921\"]], \"type\": \"heatmapgl\"}], \"histogram\": [{\"marker\": {\"colorbar\": {\"outlinewidth\": 0, \"ticks\": \"\"}}, \"type\": \"histogram\"}], \"histogram2d\": [{\"colorbar\": {\"outlinewidth\": 0, \"ticks\": \"\"}, \"colorscale\": [[0.0, \"#0d0887\"], [0.1111111111111111, \"#46039f\"], [0.2222222222222222, \"#7201a8\"], [0.3333333333333333, \"#9c179e\"], [0.4444444444444444, \"#bd3786\"], [0.5555555555555556, \"#d8576b\"], [0.6666666666666666, \"#ed7953\"], [0.7777777777777778, \"#fb9f3a\"], [0.8888888888888888, \"#fdca26\"], [1.0, \"#f0f921\"]], \"type\": \"histogram2d\"}], \"histogram2dcontour\": [{\"colorbar\": {\"outlinewidth\": 0, \"ticks\": \"\"}, \"colorscale\": [[0.0, \"#0d0887\"], [0.1111111111111111, \"#46039f\"], [0.2222222222222222, \"#7201a8\"], [0.3333333333333333, \"#9c179e\"], [0.4444444444444444, \"#bd3786\"], [0.5555555555555556, \"#d8576b\"], [0.6666666666666666, \"#ed7953\"], [0.7777777777777778, \"#fb9f3a\"], [0.8888888888888888, \"#fdca26\"], [1.0, \"#f0f921\"]], \"type\": \"histogram2dcontour\"}], \"mesh3d\": [{\"colorbar\": {\"outlinewidth\": 0, \"ticks\": \"\"}, \"type\": \"mesh3d\"}], \"parcoords\": [{\"line\": {\"colorbar\": {\"outlinewidth\": 0, \"ticks\": \"\"}}, \"type\": \"parcoords\"}], \"pie\": [{\"automargin\": true, \"type\": \"pie\"}], \"scatter\": [{\"marker\": {\"colorbar\": {\"outlinewidth\": 0, \"ticks\": \"\"}}, \"type\": \"scatter\"}], \"scatter3d\": [{\"line\": {\"colorbar\": {\"outlinewidth\": 0, \"ticks\": \"\"}}, \"marker\": {\"colorbar\": {\"outlinewidth\": 0, \"ticks\": \"\"}}, \"type\": \"scatter3d\"}], \"scattercarpet\": [{\"marker\": {\"colorbar\": {\"outlinewidth\": 0, \"ticks\": \"\"}}, \"type\": \"scattercarpet\"}], \"scattergeo\": [{\"marker\": {\"colorbar\": {\"outlinewidth\": 0, \"ticks\": \"\"}}, \"type\": \"scattergeo\"}], \"scattergl\": [{\"marker\": {\"colorbar\": {\"outlinewidth\": 0, \"ticks\": \"\"}}, \"type\": \"scattergl\"}], \"scattermapbox\": [{\"marker\": {\"colorbar\": {\"outlinewidth\": 0, \"ticks\": \"\"}}, \"type\": \"scattermapbox\"}], \"scatterpolar\": [{\"marker\": {\"colorbar\": {\"outlinewidth\": 0, \"ticks\": \"\"}}, \"type\": \"scatterpolar\"}], \"scatterpolargl\": [{\"marker\": {\"colorbar\": {\"outlinewidth\": 0, \"ticks\": \"\"}}, \"type\": \"scatterpolargl\"}], \"scatterternary\": [{\"marker\": {\"colorbar\": {\"outlinewidth\": 0, \"ticks\": \"\"}}, \"type\": \"scatterternary\"}], \"surface\": [{\"colorbar\": {\"outlinewidth\": 0, \"ticks\": \"\"}, \"colorscale\": [[0.0, \"#0d0887\"], [0.1111111111111111, \"#46039f\"], [0.2222222222222222, \"#7201a8\"], [0.3333333333333333, \"#9c179e\"], [0.4444444444444444, \"#bd3786\"], [0.5555555555555556, \"#d8576b\"], [0.6666666666666666, \"#ed7953\"], [0.7777777777777778, \"#fb9f3a\"], [0.8888888888888888, \"#fdca26\"], [1.0, \"#f0f921\"]], \"type\": \"surface\"}], \"table\": [{\"cells\": {\"fill\": {\"color\": \"#EBF0F8\"}, \"line\": {\"color\": \"white\"}}, \"header\": {\"fill\": {\"color\": \"#C8D4E3\"}, \"line\": {\"color\": \"white\"}}, \"type\": \"table\"}]}, \"layout\": {\"annotationdefaults\": {\"arrowcolor\": \"#2a3f5f\", \"arrowhead\": 0, \"arrowwidth\": 1}, \"coloraxis\": {\"colorbar\": {\"outlinewidth\": 0, \"ticks\": \"\"}}, \"colorscale\": {\"diverging\": [[0, \"#8e0152\"], [0.1, \"#c51b7d\"], [0.2, \"#de77ae\"], [0.3, \"#f1b6da\"], [0.4, \"#fde0ef\"], [0.5, \"#f7f7f7\"], [0.6, \"#e6f5d0\"], [0.7, \"#b8e186\"], [0.8, \"#7fbc41\"], [0.9, \"#4d9221\"], [1, \"#276419\"]], \"sequential\": [[0.0, \"#0d0887\"], [0.1111111111111111, \"#46039f\"], [0.2222222222222222, \"#7201a8\"], [0.3333333333333333, \"#9c179e\"], [0.4444444444444444, \"#bd3786\"], [0.5555555555555556, \"#d8576b\"], [0.6666666666666666, \"#ed7953\"], [0.7777777777777778, \"#fb9f3a\"], [0.8888888888888888, \"#fdca26\"], [1.0, \"#f0f921\"]], \"sequentialminus\": [[0.0, \"#0d0887\"], [0.1111111111111111, \"#46039f\"], [0.2222222222222222, \"#7201a8\"], [0.3333333333333333, \"#9c179e\"], [0.4444444444444444, \"#bd3786\"], [0.5555555555555556, \"#d8576b\"], [0.6666666666666666, \"#ed7953\"], [0.7777777777777778, \"#fb9f3a\"], [0.8888888888888888, \"#fdca26\"], [1.0, \"#f0f921\"]]}, \"colorway\": [\"#636efa\", \"#EF553B\", \"#00cc96\", \"#ab63fa\", \"#FFA15A\", \"#19d3f3\", \"#FF6692\", \"#B6E880\", \"#FF97FF\", \"#FECB52\"], \"font\": {\"color\": \"#2a3f5f\"}, \"geo\": {\"bgcolor\": \"white\", \"lakecolor\": \"white\", \"landcolor\": \"#E5ECF6\", \"showlakes\": true, \"showland\": true, \"subunitcolor\": \"white\"}, \"hoverlabel\": {\"align\": \"left\"}, \"hovermode\": \"closest\", \"mapbox\": {\"style\": \"light\"}, \"paper_bgcolor\": \"white\", \"plot_bgcolor\": \"#E5ECF6\", \"polar\": {\"angularaxis\": {\"gridcolor\": \"white\", \"linecolor\": \"white\", \"ticks\": \"\"}, \"bgcolor\": \"#E5ECF6\", \"radialaxis\": {\"gridcolor\": \"white\", \"linecolor\": \"white\", \"ticks\": \"\"}}, \"scene\": {\"xaxis\": {\"backgroundcolor\": \"#E5ECF6\", \"gridcolor\": \"white\", \"gridwidth\": 2, \"linecolor\": \"white\", \"showbackground\": true, \"ticks\": \"\", \"zerolinecolor\": \"white\"}, \"yaxis\": {\"backgroundcolor\": \"#E5ECF6\", \"gridcolor\": \"white\", \"gridwidth\": 2, \"linecolor\": \"white\", \"showbackground\": true, \"ticks\": \"\", \"zerolinecolor\": \"white\"}, \"zaxis\": {\"backgroundcolor\": \"#E5ECF6\", \"gridcolor\": \"white\", \"gridwidth\": 2, \"linecolor\": \"white\", \"showbackground\": true, \"ticks\": \"\", \"zerolinecolor\": \"white\"}}, \"shapedefaults\": {\"line\": {\"color\": \"#2a3f5f\"}}, \"ternary\": {\"aaxis\": {\"gridcolor\": \"white\", \"linecolor\": \"white\", \"ticks\": \"\"}, \"baxis\": {\"gridcolor\": \"white\", \"linecolor\": \"white\", \"ticks\": \"\"}, \"bgcolor\": \"#E5ECF6\", \"caxis\": {\"gridcolor\": \"white\", \"linecolor\": \"white\", \"ticks\": \"\"}}, \"title\": {\"x\": 0.05}, \"xaxis\": {\"automargin\": true, \"gridcolor\": \"white\", \"linecolor\": \"white\", \"ticks\": \"\", \"title\": {\"standoff\": 15}, \"zerolinecolor\": \"white\", \"zerolinewidth\": 2}, \"yaxis\": {\"automargin\": true, \"gridcolor\": \"white\", \"linecolor\": \"white\", \"ticks\": \"\", \"title\": {\"standoff\": 15}, \"zerolinecolor\": \"white\", \"zerolinewidth\": 2}}}, \"xaxis\": {\"anchor\": \"y\", \"domain\": [0.0, 1.0], \"title\": {\"text\": \"bmi_men\"}}, \"yaxis\": {\"anchor\": \"x\", \"domain\": [0.0, 1.0], \"title\": {\"text\": \"bmi_women\"}}},\n",
       "                        {\"responsive\": true}\n",
       "                    ).then(function(){\n",
       "                            \n",
       "var gd = document.getElementById('d6884627-f406-4ec9-bf4a-1ca2cd1a42d8');\n",
       "var x = new MutationObserver(function (mutations, observer) {{\n",
       "        var display = window.getComputedStyle(gd).display;\n",
       "        if (!display || display === 'none') {{\n",
       "            console.log([gd, 'removed!']);\n",
       "            Plotly.purge(gd);\n",
       "            observer.disconnect();\n",
       "        }}\n",
       "}});\n",
       "\n",
       "// Listen for the removal of the full notebook cells\n",
       "var notebookContainer = gd.closest('#notebook-container');\n",
       "if (notebookContainer) {{\n",
       "    x.observe(notebookContainer, {childList: true});\n",
       "}}\n",
       "\n",
       "// Listen for the clearing of the current output cell\n",
       "var outputEl = gd.closest('.output');\n",
       "if (outputEl) {{\n",
       "    x.observe(outputEl, {childList: true});\n",
       "}}\n",
       "\n",
       "                        })\n",
       "                };\n",
       "                });\n",
       "            </script>\n",
       "        </div>"
      ]
     },
     "metadata": {},
     "output_type": "display_data"
    }
   ],
   "source": [
    "import plotly.express as px\n",
    "\n",
    "px.scatter(\n",
    "    countries.reset_index(),\n",
    "    x=\"bmi_men\",\n",
    "    y=\"bmi_women\",\n",
    "    size=\"population\",\n",
    "    color=\"world_4region\",\n",
    "    hover_name=\"name\"\n",
    ")"
   ]
  },
  {
   "cell_type": "code",
   "execution_count": null,
   "metadata": {},
   "outputs": [],
   "source": []
  }
 ],
 "metadata": {
  "kernelspec": {
   "display_name": "Python 3",
   "language": "python",
   "name": "python3"
  },
  "language_info": {
   "codemirror_mode": {
    "name": "ipython",
    "version": 3
   },
   "file_extension": ".py",
   "mimetype": "text/x-python",
   "name": "python",
   "nbconvert_exporter": "python",
   "pygments_lexer": "ipython3",
   "version": "3.7.6"
  }
 },
 "nbformat": 4,
 "nbformat_minor": 4
}
